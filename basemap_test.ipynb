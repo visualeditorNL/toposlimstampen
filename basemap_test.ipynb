{
 "cells": [
  {
   "cell_type": "code",
   "execution_count": 16,
   "metadata": {},
   "outputs": [
    {
     "name": "stderr",
     "output_type": "stream",
     "text": [
      "/opt/anaconda3/lib/python3.7/site-packages/ipykernel_launcher.py:28: MatplotlibDeprecationWarning: \n",
      "The dedent function was deprecated in Matplotlib 3.1 and will be removed in 3.3. Use inspect.cleandoc instead.\n",
      "/opt/anaconda3/lib/python3.7/site-packages/ipykernel_launcher.py:30: MatplotlibDeprecationWarning: \n",
      "The dedent function was deprecated in Matplotlib 3.1 and will be removed in 3.3. Use inspect.cleandoc instead.\n"
     ]
    },
    {
     "name": "stdout",
     "output_type": "stream",
     "text": [
      "Fiji [<matplotlib.patches.Polygon object at 0x11c972d50>]\n",
      "Fiji [<matplotlib.patches.Polygon object at 0x11c972d50>, <matplotlib.patches.Polygon object at 0x11c917a50>]\n",
      "Fiji [<matplotlib.patches.Polygon object at 0x11c972d50>, <matplotlib.patches.Polygon object at 0x11c917a50>, <matplotlib.patches.Polygon object at 0x11c8f3fd0>]\n",
      "Tanzania [<matplotlib.patches.Polygon object at 0x11f61c490>]\n",
      "Westelijke Sahara [<matplotlib.patches.Polygon object at 0x122d04910>]\n",
      "Canada [<matplotlib.patches.Polygon object at 0x1210ee990>]\n",
      "Canada [<matplotlib.patches.Polygon object at 0x1210ee990>, <matplotlib.patches.Polygon object at 0x1210f0e90>]\n",
      "Canada [<matplotlib.patches.Polygon object at 0x1210ee990>, <matplotlib.patches.Polygon object at 0x1210f0e90>, <matplotlib.patches.Polygon object at 0x11c8a0a90>]\n",
      "Canada [<matplotlib.patches.Polygon object at 0x1210ee990>, <matplotlib.patches.Polygon object at 0x1210f0e90>, <matplotlib.patches.Polygon object at 0x11c8a0a90>, <matplotlib.patches.Polygon object at 0x11f7310d0>]\n",
      "Canada [<matplotlib.patches.Polygon object at 0x1210ee990>, <matplotlib.patches.Polygon object at 0x1210f0e90>, <matplotlib.patches.Polygon object at 0x11c8a0a90>, <matplotlib.patches.Polygon object at 0x11f7310d0>, <matplotlib.patches.Polygon object at 0x10c789cd0>]\n",
      "Canada [<matplotlib.patches.Polygon object at 0x1210ee990>, <matplotlib.patches.Polygon object at 0x1210f0e90>, <matplotlib.patches.Polygon object at 0x11c8a0a90>, <matplotlib.patches.Polygon object at 0x11f7310d0>, <matplotlib.patches.Polygon object at 0x10c789cd0>, <matplotlib.patches.Polygon object at 0x11fa14f10>]\n",
      "Canada [<matplotlib.patches.Polygon object at 0x1210ee990>, <matplotlib.patches.Polygon object at 0x1210f0e90>, <matplotlib.patches.Polygon object at 0x11c8a0a90>, <matplotlib.patches.Polygon object at 0x11f7310d0>, <matplotlib.patches.Polygon object at 0x10c789cd0>, <matplotlib.patches.Polygon object at 0x11fa14f10>, <matplotlib.patches.Polygon object at 0x12301bf50>]\n",
      "Canada [<matplotlib.patches.Polygon object at 0x1210ee990>, <matplotlib.patches.Polygon object at 0x1210f0e90>, <matplotlib.patches.Polygon object at 0x11c8a0a90>, <matplotlib.patches.Polygon object at 0x11f7310d0>, <matplotlib.patches.Polygon object at 0x10c789cd0>, <matplotlib.patches.Polygon object at 0x11fa14f10>, <matplotlib.patches.Polygon object at 0x12301bf50>, <matplotlib.patches.Polygon object at 0x11fa14f90>]\n",
      "Canada [<matplotlib.patches.Polygon object at 0x1210ee990>, <matplotlib.patches.Polygon object at 0x1210f0e90>, <matplotlib.patches.Polygon object at 0x11c8a0a90>, <matplotlib.patches.Polygon object at 0x11f7310d0>, <matplotlib.patches.Polygon object at 0x10c789cd0>, <matplotlib.patches.Polygon object at 0x11fa14f10>, <matplotlib.patches.Polygon object at 0x12301bf50>, <matplotlib.patches.Polygon object at 0x11fa14f90>, <matplotlib.patches.Polygon object at 0x11e9e3550>]\n",
      "Canada [<matplotlib.patches.Polygon object at 0x1210ee990>, <matplotlib.patches.Polygon object at 0x1210f0e90>, <matplotlib.patches.Polygon object at 0x11c8a0a90>, <matplotlib.patches.Polygon object at 0x11f7310d0>, <matplotlib.patches.Polygon object at 0x10c789cd0>, <matplotlib.patches.Polygon object at 0x11fa14f10>, <matplotlib.patches.Polygon object at 0x12301bf50>, <matplotlib.patches.Polygon object at 0x11fa14f90>, <matplotlib.patches.Polygon object at 0x11e9e3550>, <matplotlib.patches.Polygon object at 0x11e9e33d0>]\n",
      "Canada [<matplotlib.patches.Polygon object at 0x1210ee990>, <matplotlib.patches.Polygon object at 0x1210f0e90>, <matplotlib.patches.Polygon object at 0x11c8a0a90>, <matplotlib.patches.Polygon object at 0x11f7310d0>, <matplotlib.patches.Polygon object at 0x10c789cd0>, <matplotlib.patches.Polygon object at 0x11fa14f10>, <matplotlib.patches.Polygon object at 0x12301bf50>, <matplotlib.patches.Polygon object at 0x11fa14f90>, <matplotlib.patches.Polygon object at 0x11e9e3550>, <matplotlib.patches.Polygon object at 0x11e9e33d0>, <matplotlib.patches.Polygon object at 0x11e9e3910>]\n",
      "Canada [<matplotlib.patches.Polygon object at 0x1210ee990>, <matplotlib.patches.Polygon object at 0x1210f0e90>, <matplotlib.patches.Polygon object at 0x11c8a0a90>, <matplotlib.patches.Polygon object at 0x11f7310d0>, <matplotlib.patches.Polygon object at 0x10c789cd0>, <matplotlib.patches.Polygon object at 0x11fa14f10>, <matplotlib.patches.Polygon object at 0x12301bf50>, <matplotlib.patches.Polygon object at 0x11fa14f90>, <matplotlib.patches.Polygon object at 0x11e9e3550>, <matplotlib.patches.Polygon object at 0x11e9e33d0>, <matplotlib.patches.Polygon object at 0x11e9e3910>, <matplotlib.patches.Polygon object at 0x11e9e3850>]\n",
      "Canada [<matplotlib.patches.Polygon object at 0x1210ee990>, <matplotlib.patches.Polygon object at 0x1210f0e90>, <matplotlib.patches.Polygon object at 0x11c8a0a90>, <matplotlib.patches.Polygon object at 0x11f7310d0>, <matplotlib.patches.Polygon object at 0x10c789cd0>, <matplotlib.patches.Polygon object at 0x11fa14f10>, <matplotlib.patches.Polygon object at 0x12301bf50>, <matplotlib.patches.Polygon object at 0x11fa14f90>, <matplotlib.patches.Polygon object at 0x11e9e3550>, <matplotlib.patches.Polygon object at 0x11e9e33d0>, <matplotlib.patches.Polygon object at 0x11e9e3910>, <matplotlib.patches.Polygon object at 0x11e9e3850>, <matplotlib.patches.Polygon object at 0x122c399d0>]\n",
      "Canada [<matplotlib.patches.Polygon object at 0x1210ee990>, <matplotlib.patches.Polygon object at 0x1210f0e90>, <matplotlib.patches.Polygon object at 0x11c8a0a90>, <matplotlib.patches.Polygon object at 0x11f7310d0>, <matplotlib.patches.Polygon object at 0x10c789cd0>, <matplotlib.patches.Polygon object at 0x11fa14f10>, <matplotlib.patches.Polygon object at 0x12301bf50>, <matplotlib.patches.Polygon object at 0x11fa14f90>, <matplotlib.patches.Polygon object at 0x11e9e3550>, <matplotlib.patches.Polygon object at 0x11e9e33d0>, <matplotlib.patches.Polygon object at 0x11e9e3910>, <matplotlib.patches.Polygon object at 0x11e9e3850>, <matplotlib.patches.Polygon object at 0x122c399d0>, <matplotlib.patches.Polygon object at 0x122c39650>]\n",
      "Canada [<matplotlib.patches.Polygon object at 0x1210ee990>, <matplotlib.patches.Polygon object at 0x1210f0e90>, <matplotlib.patches.Polygon object at 0x11c8a0a90>, <matplotlib.patches.Polygon object at 0x11f7310d0>, <matplotlib.patches.Polygon object at 0x10c789cd0>, <matplotlib.patches.Polygon object at 0x11fa14f10>, <matplotlib.patches.Polygon object at 0x12301bf50>, <matplotlib.patches.Polygon object at 0x11fa14f90>, <matplotlib.patches.Polygon object at 0x11e9e3550>, <matplotlib.patches.Polygon object at 0x11e9e33d0>, <matplotlib.patches.Polygon object at 0x11e9e3910>, <matplotlib.patches.Polygon object at 0x11e9e3850>, <matplotlib.patches.Polygon object at 0x122c399d0>, <matplotlib.patches.Polygon object at 0x122c39650>, <matplotlib.patches.Polygon object at 0x11e6320d0>]\n",
      "Canada [<matplotlib.patches.Polygon object at 0x1210ee990>, <matplotlib.patches.Polygon object at 0x1210f0e90>, <matplotlib.patches.Polygon object at 0x11c8a0a90>, <matplotlib.patches.Polygon object at 0x11f7310d0>, <matplotlib.patches.Polygon object at 0x10c789cd0>, <matplotlib.patches.Polygon object at 0x11fa14f10>, <matplotlib.patches.Polygon object at 0x12301bf50>, <matplotlib.patches.Polygon object at 0x11fa14f90>, <matplotlib.patches.Polygon object at 0x11e9e3550>, <matplotlib.patches.Polygon object at 0x11e9e33d0>, <matplotlib.patches.Polygon object at 0x11e9e3910>, <matplotlib.patches.Polygon object at 0x11e9e3850>, <matplotlib.patches.Polygon object at 0x122c399d0>, <matplotlib.patches.Polygon object at 0x122c39650>, <matplotlib.patches.Polygon object at 0x11e6320d0>, <matplotlib.patches.Polygon object at 0x11e9e3a50>]\n",
      "Canada [<matplotlib.patches.Polygon object at 0x1210ee990>, <matplotlib.patches.Polygon object at 0x1210f0e90>, <matplotlib.patches.Polygon object at 0x11c8a0a90>, <matplotlib.patches.Polygon object at 0x11f7310d0>, <matplotlib.patches.Polygon object at 0x10c789cd0>, <matplotlib.patches.Polygon object at 0x11fa14f10>, <matplotlib.patches.Polygon object at 0x12301bf50>, <matplotlib.patches.Polygon object at 0x11fa14f90>, <matplotlib.patches.Polygon object at 0x11e9e3550>, <matplotlib.patches.Polygon object at 0x11e9e33d0>, <matplotlib.patches.Polygon object at 0x11e9e3910>, <matplotlib.patches.Polygon object at 0x11e9e3850>, <matplotlib.patches.Polygon object at 0x122c399d0>, <matplotlib.patches.Polygon object at 0x122c39650>, <matplotlib.patches.Polygon object at 0x11e6320d0>, <matplotlib.patches.Polygon object at 0x11e9e3a50>, <matplotlib.patches.Polygon object at 0x11e625890>]\n",
      "Canada [<matplotlib.patches.Polygon object at 0x1210ee990>, <matplotlib.patches.Polygon object at 0x1210f0e90>, <matplotlib.patches.Polygon object at 0x11c8a0a90>, <matplotlib.patches.Polygon object at 0x11f7310d0>, <matplotlib.patches.Polygon object at 0x10c789cd0>, <matplotlib.patches.Polygon object at 0x11fa14f10>, <matplotlib.patches.Polygon object at 0x12301bf50>, <matplotlib.patches.Polygon object at 0x11fa14f90>, <matplotlib.patches.Polygon object at 0x11e9e3550>, <matplotlib.patches.Polygon object at 0x11e9e33d0>, <matplotlib.patches.Polygon object at 0x11e9e3910>, <matplotlib.patches.Polygon object at 0x11e9e3850>, <matplotlib.patches.Polygon object at 0x122c399d0>, <matplotlib.patches.Polygon object at 0x122c39650>, <matplotlib.patches.Polygon object at 0x11e6320d0>, <matplotlib.patches.Polygon object at 0x11e9e3a50>, <matplotlib.patches.Polygon object at 0x11e625890>, <matplotlib.patches.Polygon object at 0x11e618210>]\n",
      "Canada [<matplotlib.patches.Polygon object at 0x1210ee990>, <matplotlib.patches.Polygon object at 0x1210f0e90>, <matplotlib.patches.Polygon object at 0x11c8a0a90>, <matplotlib.patches.Polygon object at 0x11f7310d0>, <matplotlib.patches.Polygon object at 0x10c789cd0>, <matplotlib.patches.Polygon object at 0x11fa14f10>, <matplotlib.patches.Polygon object at 0x12301bf50>, <matplotlib.patches.Polygon object at 0x11fa14f90>, <matplotlib.patches.Polygon object at 0x11e9e3550>, <matplotlib.patches.Polygon object at 0x11e9e33d0>, <matplotlib.patches.Polygon object at 0x11e9e3910>, <matplotlib.patches.Polygon object at 0x11e9e3850>, <matplotlib.patches.Polygon object at 0x122c399d0>, <matplotlib.patches.Polygon object at 0x122c39650>, <matplotlib.patches.Polygon object at 0x11e6320d0>, <matplotlib.patches.Polygon object at 0x11e9e3a50>, <matplotlib.patches.Polygon object at 0x11e625890>, <matplotlib.patches.Polygon object at 0x11e618210>, <matplotlib.patches.Polygon object at 0x11e60b6d0>]\n",
      "Canada [<matplotlib.patches.Polygon object at 0x1210ee990>, <matplotlib.patches.Polygon object at 0x1210f0e90>, <matplotlib.patches.Polygon object at 0x11c8a0a90>, <matplotlib.patches.Polygon object at 0x11f7310d0>, <matplotlib.patches.Polygon object at 0x10c789cd0>, <matplotlib.patches.Polygon object at 0x11fa14f10>, <matplotlib.patches.Polygon object at 0x12301bf50>, <matplotlib.patches.Polygon object at 0x11fa14f90>, <matplotlib.patches.Polygon object at 0x11e9e3550>, <matplotlib.patches.Polygon object at 0x11e9e33d0>, <matplotlib.patches.Polygon object at 0x11e9e3910>, <matplotlib.patches.Polygon object at 0x11e9e3850>, <matplotlib.patches.Polygon object at 0x122c399d0>, <matplotlib.patches.Polygon object at 0x122c39650>, <matplotlib.patches.Polygon object at 0x11e6320d0>, <matplotlib.patches.Polygon object at 0x11e9e3a50>, <matplotlib.patches.Polygon object at 0x11e625890>, <matplotlib.patches.Polygon object at 0x11e618210>, <matplotlib.patches.Polygon object at 0x11e60b6d0>, <matplotlib.patches.Polygon object at 0x11e625710>]\n",
      "Canada [<matplotlib.patches.Polygon object at 0x1210ee990>, <matplotlib.patches.Polygon object at 0x1210f0e90>, <matplotlib.patches.Polygon object at 0x11c8a0a90>, <matplotlib.patches.Polygon object at 0x11f7310d0>, <matplotlib.patches.Polygon object at 0x10c789cd0>, <matplotlib.patches.Polygon object at 0x11fa14f10>, <matplotlib.patches.Polygon object at 0x12301bf50>, <matplotlib.patches.Polygon object at 0x11fa14f90>, <matplotlib.patches.Polygon object at 0x11e9e3550>, <matplotlib.patches.Polygon object at 0x11e9e33d0>, <matplotlib.patches.Polygon object at 0x11e9e3910>, <matplotlib.patches.Polygon object at 0x11e9e3850>, <matplotlib.patches.Polygon object at 0x122c399d0>, <matplotlib.patches.Polygon object at 0x122c39650>, <matplotlib.patches.Polygon object at 0x11e6320d0>, <matplotlib.patches.Polygon object at 0x11e9e3a50>, <matplotlib.patches.Polygon object at 0x11e625890>, <matplotlib.patches.Polygon object at 0x11e618210>, <matplotlib.patches.Polygon object at 0x11e60b6d0>, <matplotlib.patches.Polygon object at 0x11e625710>, <matplotlib.patches.Polygon object at 0x11e60b410>]\n",
      "Canada [<matplotlib.patches.Polygon object at 0x1210ee990>, <matplotlib.patches.Polygon object at 0x1210f0e90>, <matplotlib.patches.Polygon object at 0x11c8a0a90>, <matplotlib.patches.Polygon object at 0x11f7310d0>, <matplotlib.patches.Polygon object at 0x10c789cd0>, <matplotlib.patches.Polygon object at 0x11fa14f10>, <matplotlib.patches.Polygon object at 0x12301bf50>, <matplotlib.patches.Polygon object at 0x11fa14f90>, <matplotlib.patches.Polygon object at 0x11e9e3550>, <matplotlib.patches.Polygon object at 0x11e9e33d0>, <matplotlib.patches.Polygon object at 0x11e9e3910>, <matplotlib.patches.Polygon object at 0x11e9e3850>, <matplotlib.patches.Polygon object at 0x122c399d0>, <matplotlib.patches.Polygon object at 0x122c39650>, <matplotlib.patches.Polygon object at 0x11e6320d0>, <matplotlib.patches.Polygon object at 0x11e9e3a50>, <matplotlib.patches.Polygon object at 0x11e625890>, <matplotlib.patches.Polygon object at 0x11e618210>, <matplotlib.patches.Polygon object at 0x11e60b6d0>, <matplotlib.patches.Polygon object at 0x11e625710>, <matplotlib.patches.Polygon object at 0x11e60b410>, <matplotlib.patches.Polygon object at 0x1210e3290>]\n",
      "Canada [<matplotlib.patches.Polygon object at 0x1210ee990>, <matplotlib.patches.Polygon object at 0x1210f0e90>, <matplotlib.patches.Polygon object at 0x11c8a0a90>, <matplotlib.patches.Polygon object at 0x11f7310d0>, <matplotlib.patches.Polygon object at 0x10c789cd0>, <matplotlib.patches.Polygon object at 0x11fa14f10>, <matplotlib.patches.Polygon object at 0x12301bf50>, <matplotlib.patches.Polygon object at 0x11fa14f90>, <matplotlib.patches.Polygon object at 0x11e9e3550>, <matplotlib.patches.Polygon object at 0x11e9e33d0>, <matplotlib.patches.Polygon object at 0x11e9e3910>, <matplotlib.patches.Polygon object at 0x11e9e3850>, <matplotlib.patches.Polygon object at 0x122c399d0>, <matplotlib.patches.Polygon object at 0x122c39650>, <matplotlib.patches.Polygon object at 0x11e6320d0>, <matplotlib.patches.Polygon object at 0x11e9e3a50>, <matplotlib.patches.Polygon object at 0x11e625890>, <matplotlib.patches.Polygon object at 0x11e618210>, <matplotlib.patches.Polygon object at 0x11e60b6d0>, <matplotlib.patches.Polygon object at 0x11e625710>, <matplotlib.patches.Polygon object at 0x11e60b410>, <matplotlib.patches.Polygon object at 0x1210e3290>, <matplotlib.patches.Polygon object at 0x10bb33690>]\n",
      "Canada [<matplotlib.patches.Polygon object at 0x1210ee990>, <matplotlib.patches.Polygon object at 0x1210f0e90>, <matplotlib.patches.Polygon object at 0x11c8a0a90>, <matplotlib.patches.Polygon object at 0x11f7310d0>, <matplotlib.patches.Polygon object at 0x10c789cd0>, <matplotlib.patches.Polygon object at 0x11fa14f10>, <matplotlib.patches.Polygon object at 0x12301bf50>, <matplotlib.patches.Polygon object at 0x11fa14f90>, <matplotlib.patches.Polygon object at 0x11e9e3550>, <matplotlib.patches.Polygon object at 0x11e9e33d0>, <matplotlib.patches.Polygon object at 0x11e9e3910>, <matplotlib.patches.Polygon object at 0x11e9e3850>, <matplotlib.patches.Polygon object at 0x122c399d0>, <matplotlib.patches.Polygon object at 0x122c39650>, <matplotlib.patches.Polygon object at 0x11e6320d0>, <matplotlib.patches.Polygon object at 0x11e9e3a50>, <matplotlib.patches.Polygon object at 0x11e625890>, <matplotlib.patches.Polygon object at 0x11e618210>, <matplotlib.patches.Polygon object at 0x11e60b6d0>, <matplotlib.patches.Polygon object at 0x11e625710>, <matplotlib.patches.Polygon object at 0x11e60b410>, <matplotlib.patches.Polygon object at 0x1210e3290>, <matplotlib.patches.Polygon object at 0x10bb33690>, <matplotlib.patches.Polygon object at 0x1210e3510>]\n",
      "Canada [<matplotlib.patches.Polygon object at 0x1210ee990>, <matplotlib.patches.Polygon object at 0x1210f0e90>, <matplotlib.patches.Polygon object at 0x11c8a0a90>, <matplotlib.patches.Polygon object at 0x11f7310d0>, <matplotlib.patches.Polygon object at 0x10c789cd0>, <matplotlib.patches.Polygon object at 0x11fa14f10>, <matplotlib.patches.Polygon object at 0x12301bf50>, <matplotlib.patches.Polygon object at 0x11fa14f90>, <matplotlib.patches.Polygon object at 0x11e9e3550>, <matplotlib.patches.Polygon object at 0x11e9e33d0>, <matplotlib.patches.Polygon object at 0x11e9e3910>, <matplotlib.patches.Polygon object at 0x11e9e3850>, <matplotlib.patches.Polygon object at 0x122c399d0>, <matplotlib.patches.Polygon object at 0x122c39650>, <matplotlib.patches.Polygon object at 0x11e6320d0>, <matplotlib.patches.Polygon object at 0x11e9e3a50>, <matplotlib.patches.Polygon object at 0x11e625890>, <matplotlib.patches.Polygon object at 0x11e618210>, <matplotlib.patches.Polygon object at 0x11e60b6d0>, <matplotlib.patches.Polygon object at 0x11e625710>, <matplotlib.patches.Polygon object at 0x11e60b410>, <matplotlib.patches.Polygon object at 0x1210e3290>, <matplotlib.patches.Polygon object at 0x10bb33690>, <matplotlib.patches.Polygon object at 0x1210e3510>, <matplotlib.patches.Polygon object at 0x10c84f090>]\n",
      "Canada [<matplotlib.patches.Polygon object at 0x1210ee990>, <matplotlib.patches.Polygon object at 0x1210f0e90>, <matplotlib.patches.Polygon object at 0x11c8a0a90>, <matplotlib.patches.Polygon object at 0x11f7310d0>, <matplotlib.patches.Polygon object at 0x10c789cd0>, <matplotlib.patches.Polygon object at 0x11fa14f10>, <matplotlib.patches.Polygon object at 0x12301bf50>, <matplotlib.patches.Polygon object at 0x11fa14f90>, <matplotlib.patches.Polygon object at 0x11e9e3550>, <matplotlib.patches.Polygon object at 0x11e9e33d0>, <matplotlib.patches.Polygon object at 0x11e9e3910>, <matplotlib.patches.Polygon object at 0x11e9e3850>, <matplotlib.patches.Polygon object at 0x122c399d0>, <matplotlib.patches.Polygon object at 0x122c39650>, <matplotlib.patches.Polygon object at 0x11e6320d0>, <matplotlib.patches.Polygon object at 0x11e9e3a50>, <matplotlib.patches.Polygon object at 0x11e625890>, <matplotlib.patches.Polygon object at 0x11e618210>, <matplotlib.patches.Polygon object at 0x11e60b6d0>, <matplotlib.patches.Polygon object at 0x11e625710>, <matplotlib.patches.Polygon object at 0x11e60b410>, <matplotlib.patches.Polygon object at 0x1210e3290>, <matplotlib.patches.Polygon object at 0x10bb33690>, <matplotlib.patches.Polygon object at 0x1210e3510>, <matplotlib.patches.Polygon object at 0x10c84f090>, <matplotlib.patches.Polygon object at 0x1210e39d0>]\n",
      "Canada [<matplotlib.patches.Polygon object at 0x1210ee990>, <matplotlib.patches.Polygon object at 0x1210f0e90>, <matplotlib.patches.Polygon object at 0x11c8a0a90>, <matplotlib.patches.Polygon object at 0x11f7310d0>, <matplotlib.patches.Polygon object at 0x10c789cd0>, <matplotlib.patches.Polygon object at 0x11fa14f10>, <matplotlib.patches.Polygon object at 0x12301bf50>, <matplotlib.patches.Polygon object at 0x11fa14f90>, <matplotlib.patches.Polygon object at 0x11e9e3550>, <matplotlib.patches.Polygon object at 0x11e9e33d0>, <matplotlib.patches.Polygon object at 0x11e9e3910>, <matplotlib.patches.Polygon object at 0x11e9e3850>, <matplotlib.patches.Polygon object at 0x122c399d0>, <matplotlib.patches.Polygon object at 0x122c39650>, <matplotlib.patches.Polygon object at 0x11e6320d0>, <matplotlib.patches.Polygon object at 0x11e9e3a50>, <matplotlib.patches.Polygon object at 0x11e625890>, <matplotlib.patches.Polygon object at 0x11e618210>, <matplotlib.patches.Polygon object at 0x11e60b6d0>, <matplotlib.patches.Polygon object at 0x11e625710>, <matplotlib.patches.Polygon object at 0x11e60b410>, <matplotlib.patches.Polygon object at 0x1210e3290>, <matplotlib.patches.Polygon object at 0x10bb33690>, <matplotlib.patches.Polygon object at 0x1210e3510>, <matplotlib.patches.Polygon object at 0x10c84f090>, <matplotlib.patches.Polygon object at 0x1210e39d0>, <matplotlib.patches.Polygon object at 0x122c027d0>]\n",
      "Canada [<matplotlib.patches.Polygon object at 0x1210ee990>, <matplotlib.patches.Polygon object at 0x1210f0e90>, <matplotlib.patches.Polygon object at 0x11c8a0a90>, <matplotlib.patches.Polygon object at 0x11f7310d0>, <matplotlib.patches.Polygon object at 0x10c789cd0>, <matplotlib.patches.Polygon object at 0x11fa14f10>, <matplotlib.patches.Polygon object at 0x12301bf50>, <matplotlib.patches.Polygon object at 0x11fa14f90>, <matplotlib.patches.Polygon object at 0x11e9e3550>, <matplotlib.patches.Polygon object at 0x11e9e33d0>, <matplotlib.patches.Polygon object at 0x11e9e3910>, <matplotlib.patches.Polygon object at 0x11e9e3850>, <matplotlib.patches.Polygon object at 0x122c399d0>, <matplotlib.patches.Polygon object at 0x122c39650>, <matplotlib.patches.Polygon object at 0x11e6320d0>, <matplotlib.patches.Polygon object at 0x11e9e3a50>, <matplotlib.patches.Polygon object at 0x11e625890>, <matplotlib.patches.Polygon object at 0x11e618210>, <matplotlib.patches.Polygon object at 0x11e60b6d0>, <matplotlib.patches.Polygon object at 0x11e625710>, <matplotlib.patches.Polygon object at 0x11e60b410>, <matplotlib.patches.Polygon object at 0x1210e3290>, <matplotlib.patches.Polygon object at 0x10bb33690>, <matplotlib.patches.Polygon object at 0x1210e3510>, <matplotlib.patches.Polygon object at 0x10c84f090>, <matplotlib.patches.Polygon object at 0x1210e39d0>, <matplotlib.patches.Polygon object at 0x122c027d0>, <matplotlib.patches.Polygon object at 0x1210e3c10>]\n",
      "Canada [<matplotlib.patches.Polygon object at 0x1210ee990>, <matplotlib.patches.Polygon object at 0x1210f0e90>, <matplotlib.patches.Polygon object at 0x11c8a0a90>, <matplotlib.patches.Polygon object at 0x11f7310d0>, <matplotlib.patches.Polygon object at 0x10c789cd0>, <matplotlib.patches.Polygon object at 0x11fa14f10>, <matplotlib.patches.Polygon object at 0x12301bf50>, <matplotlib.patches.Polygon object at 0x11fa14f90>, <matplotlib.patches.Polygon object at 0x11e9e3550>, <matplotlib.patches.Polygon object at 0x11e9e33d0>, <matplotlib.patches.Polygon object at 0x11e9e3910>, <matplotlib.patches.Polygon object at 0x11e9e3850>, <matplotlib.patches.Polygon object at 0x122c399d0>, <matplotlib.patches.Polygon object at 0x122c39650>, <matplotlib.patches.Polygon object at 0x11e6320d0>, <matplotlib.patches.Polygon object at 0x11e9e3a50>, <matplotlib.patches.Polygon object at 0x11e625890>, <matplotlib.patches.Polygon object at 0x11e618210>, <matplotlib.patches.Polygon object at 0x11e60b6d0>, <matplotlib.patches.Polygon object at 0x11e625710>, <matplotlib.patches.Polygon object at 0x11e60b410>, <matplotlib.patches.Polygon object at 0x1210e3290>, <matplotlib.patches.Polygon object at 0x10bb33690>, <matplotlib.patches.Polygon object at 0x1210e3510>, <matplotlib.patches.Polygon object at 0x10c84f090>, <matplotlib.patches.Polygon object at 0x1210e39d0>, <matplotlib.patches.Polygon object at 0x122c027d0>, <matplotlib.patches.Polygon object at 0x1210e3c10>, <matplotlib.patches.Polygon object at 0x122c020d0>]\n",
      "Canada [<matplotlib.patches.Polygon object at 0x1210ee990>, <matplotlib.patches.Polygon object at 0x1210f0e90>, <matplotlib.patches.Polygon object at 0x11c8a0a90>, <matplotlib.patches.Polygon object at 0x11f7310d0>, <matplotlib.patches.Polygon object at 0x10c789cd0>, <matplotlib.patches.Polygon object at 0x11fa14f10>, <matplotlib.patches.Polygon object at 0x12301bf50>, <matplotlib.patches.Polygon object at 0x11fa14f90>, <matplotlib.patches.Polygon object at 0x11e9e3550>, <matplotlib.patches.Polygon object at 0x11e9e33d0>, <matplotlib.patches.Polygon object at 0x11e9e3910>, <matplotlib.patches.Polygon object at 0x11e9e3850>, <matplotlib.patches.Polygon object at 0x122c399d0>, <matplotlib.patches.Polygon object at 0x122c39650>, <matplotlib.patches.Polygon object at 0x11e6320d0>, <matplotlib.patches.Polygon object at 0x11e9e3a50>, <matplotlib.patches.Polygon object at 0x11e625890>, <matplotlib.patches.Polygon object at 0x11e618210>, <matplotlib.patches.Polygon object at 0x11e60b6d0>, <matplotlib.patches.Polygon object at 0x11e625710>, <matplotlib.patches.Polygon object at 0x11e60b410>, <matplotlib.patches.Polygon object at 0x1210e3290>, <matplotlib.patches.Polygon object at 0x10bb33690>, <matplotlib.patches.Polygon object at 0x1210e3510>, <matplotlib.patches.Polygon object at 0x10c84f090>, <matplotlib.patches.Polygon object at 0x1210e39d0>, <matplotlib.patches.Polygon object at 0x122c027d0>, <matplotlib.patches.Polygon object at 0x1210e3c10>, <matplotlib.patches.Polygon object at 0x122c020d0>, <matplotlib.patches.Polygon object at 0x122c02f10>]\n"
     ]
    },
    {
     "name": "stdout",
     "output_type": "stream",
     "text": [
      "Verenigde Staten van Amerika [<matplotlib.patches.Polygon object at 0x11c947910>]\n",
      "Verenigde Staten van Amerika [<matplotlib.patches.Polygon object at 0x11c947910>, <matplotlib.patches.Polygon object at 0x122734a10>]\n",
      "Verenigde Staten van Amerika [<matplotlib.patches.Polygon object at 0x11c947910>, <matplotlib.patches.Polygon object at 0x122734a10>, <matplotlib.patches.Polygon object at 0x12009cf90>]\n",
      "Verenigde Staten van Amerika [<matplotlib.patches.Polygon object at 0x11c947910>, <matplotlib.patches.Polygon object at 0x122734a10>, <matplotlib.patches.Polygon object at 0x12009cf90>, <matplotlib.patches.Polygon object at 0x11c8a8ed0>]\n",
      "Verenigde Staten van Amerika [<matplotlib.patches.Polygon object at 0x11c947910>, <matplotlib.patches.Polygon object at 0x122734a10>, <matplotlib.patches.Polygon object at 0x12009cf90>, <matplotlib.patches.Polygon object at 0x11c8a8ed0>, <matplotlib.patches.Polygon object at 0x11c9725d0>]\n",
      "Verenigde Staten van Amerika [<matplotlib.patches.Polygon object at 0x11c947910>, <matplotlib.patches.Polygon object at 0x122734a10>, <matplotlib.patches.Polygon object at 0x12009cf90>, <matplotlib.patches.Polygon object at 0x11c8a8ed0>, <matplotlib.patches.Polygon object at 0x11c9725d0>, <matplotlib.patches.Polygon object at 0x11c9722d0>]\n",
      "Verenigde Staten van Amerika [<matplotlib.patches.Polygon object at 0x11c947910>, <matplotlib.patches.Polygon object at 0x122734a10>, <matplotlib.patches.Polygon object at 0x12009cf90>, <matplotlib.patches.Polygon object at 0x11c8a8ed0>, <matplotlib.patches.Polygon object at 0x11c9725d0>, <matplotlib.patches.Polygon object at 0x11c9722d0>, <matplotlib.patches.Polygon object at 0x121994210>]\n",
      "Verenigde Staten van Amerika [<matplotlib.patches.Polygon object at 0x11c947910>, <matplotlib.patches.Polygon object at 0x122734a10>, <matplotlib.patches.Polygon object at 0x12009cf90>, <matplotlib.patches.Polygon object at 0x11c8a8ed0>, <matplotlib.patches.Polygon object at 0x11c9725d0>, <matplotlib.patches.Polygon object at 0x11c9722d0>, <matplotlib.patches.Polygon object at 0x121994210>, <matplotlib.patches.Polygon object at 0x11c972f90>]\n",
      "Verenigde Staten van Amerika [<matplotlib.patches.Polygon object at 0x11c947910>, <matplotlib.patches.Polygon object at 0x122734a10>, <matplotlib.patches.Polygon object at 0x12009cf90>, <matplotlib.patches.Polygon object at 0x11c8a8ed0>, <matplotlib.patches.Polygon object at 0x11c9725d0>, <matplotlib.patches.Polygon object at 0x11c9722d0>, <matplotlib.patches.Polygon object at 0x121994210>, <matplotlib.patches.Polygon object at 0x11c972f90>, <matplotlib.patches.Polygon object at 0x121994fd0>]\n",
      "Verenigde Staten van Amerika [<matplotlib.patches.Polygon object at 0x11c947910>, <matplotlib.patches.Polygon object at 0x122734a10>, <matplotlib.patches.Polygon object at 0x12009cf90>, <matplotlib.patches.Polygon object at 0x11c8a8ed0>, <matplotlib.patches.Polygon object at 0x11c9725d0>, <matplotlib.patches.Polygon object at 0x11c9722d0>, <matplotlib.patches.Polygon object at 0x121994210>, <matplotlib.patches.Polygon object at 0x11c972f90>, <matplotlib.patches.Polygon object at 0x121994fd0>, <matplotlib.patches.Polygon object at 0x121994b50>]\n",
      "Kazachstan [<matplotlib.patches.Polygon object at 0x1208b4e10>]\n",
      "Oezbekistan [<matplotlib.patches.Polygon object at 0x11e9e3d90>]\n",
      "Papoea-Nieuw-Guinea [<matplotlib.patches.Polygon object at 0x11d9cff50>]\n",
      "Papoea-Nieuw-Guinea [<matplotlib.patches.Polygon object at 0x11d9cff50>, <matplotlib.patches.Polygon object at 0x11d9cfb50>]\n",
      "Papoea-Nieuw-Guinea [<matplotlib.patches.Polygon object at 0x11d9cff50>, <matplotlib.patches.Polygon object at 0x11d9cfb50>, <matplotlib.patches.Polygon object at 0x11d9cf610>]\n",
      "Papoea-Nieuw-Guinea [<matplotlib.patches.Polygon object at 0x11d9cff50>, <matplotlib.patches.Polygon object at 0x11d9cfb50>, <matplotlib.patches.Polygon object at 0x11d9cf610>, <matplotlib.patches.Polygon object at 0x10bd35e50>]\n",
      "Indonesië [<matplotlib.patches.Polygon object at 0x1202b8690>]\n",
      "Indonesië [<matplotlib.patches.Polygon object at 0x1202b8690>, <matplotlib.patches.Polygon object at 0x1202b8650>]\n",
      "Indonesië [<matplotlib.patches.Polygon object at 0x1202b8690>, <matplotlib.patches.Polygon object at 0x1202b8650>, <matplotlib.patches.Polygon object at 0x122ec0c50>]\n",
      "Indonesië [<matplotlib.patches.Polygon object at 0x1202b8690>, <matplotlib.patches.Polygon object at 0x1202b8650>, <matplotlib.patches.Polygon object at 0x122ec0c50>, <matplotlib.patches.Polygon object at 0x120d0bed0>]\n",
      "Indonesië [<matplotlib.patches.Polygon object at 0x1202b8690>, <matplotlib.patches.Polygon object at 0x1202b8650>, <matplotlib.patches.Polygon object at 0x122ec0c50>, <matplotlib.patches.Polygon object at 0x120d0bed0>, <matplotlib.patches.Polygon object at 0x1202b8710>]\n",
      "Indonesië [<matplotlib.patches.Polygon object at 0x1202b8690>, <matplotlib.patches.Polygon object at 0x1202b8650>, <matplotlib.patches.Polygon object at 0x122ec0c50>, <matplotlib.patches.Polygon object at 0x120d0bed0>, <matplotlib.patches.Polygon object at 0x1202b8710>, <matplotlib.patches.Polygon object at 0x11c89bdd0>]\n",
      "Indonesië [<matplotlib.patches.Polygon object at 0x1202b8690>, <matplotlib.patches.Polygon object at 0x1202b8650>, <matplotlib.patches.Polygon object at 0x122ec0c50>, <matplotlib.patches.Polygon object at 0x120d0bed0>, <matplotlib.patches.Polygon object at 0x1202b8710>, <matplotlib.patches.Polygon object at 0x11c89bdd0>, <matplotlib.patches.Polygon object at 0x11c89b610>]\n",
      "Indonesië [<matplotlib.patches.Polygon object at 0x1202b8690>, <matplotlib.patches.Polygon object at 0x1202b8650>, <matplotlib.patches.Polygon object at 0x122ec0c50>, <matplotlib.patches.Polygon object at 0x120d0bed0>, <matplotlib.patches.Polygon object at 0x1202b8710>, <matplotlib.patches.Polygon object at 0x11c89bdd0>, <matplotlib.patches.Polygon object at 0x11c89b610>, <matplotlib.patches.Polygon object at 0x1202b8850>]\n",
      "Indonesië [<matplotlib.patches.Polygon object at 0x1202b8690>, <matplotlib.patches.Polygon object at 0x1202b8650>, <matplotlib.patches.Polygon object at 0x122ec0c50>, <matplotlib.patches.Polygon object at 0x120d0bed0>, <matplotlib.patches.Polygon object at 0x1202b8710>, <matplotlib.patches.Polygon object at 0x11c89bdd0>, <matplotlib.patches.Polygon object at 0x11c89b610>, <matplotlib.patches.Polygon object at 0x1202b8850>, <matplotlib.patches.Polygon object at 0x11c89b690>]\n",
      "Indonesië [<matplotlib.patches.Polygon object at 0x1202b8690>, <matplotlib.patches.Polygon object at 0x1202b8650>, <matplotlib.patches.Polygon object at 0x122ec0c50>, <matplotlib.patches.Polygon object at 0x120d0bed0>, <matplotlib.patches.Polygon object at 0x1202b8710>, <matplotlib.patches.Polygon object at 0x11c89bdd0>, <matplotlib.patches.Polygon object at 0x11c89b610>, <matplotlib.patches.Polygon object at 0x1202b8850>, <matplotlib.patches.Polygon object at 0x11c89b690>, <matplotlib.patches.Polygon object at 0x11f796350>]\n",
      "Indonesië [<matplotlib.patches.Polygon object at 0x1202b8690>, <matplotlib.patches.Polygon object at 0x1202b8650>, <matplotlib.patches.Polygon object at 0x122ec0c50>, <matplotlib.patches.Polygon object at 0x120d0bed0>, <matplotlib.patches.Polygon object at 0x1202b8710>, <matplotlib.patches.Polygon object at 0x11c89bdd0>, <matplotlib.patches.Polygon object at 0x11c89b610>, <matplotlib.patches.Polygon object at 0x1202b8850>, <matplotlib.patches.Polygon object at 0x11c89b690>, <matplotlib.patches.Polygon object at 0x11f796350>, <matplotlib.patches.Polygon object at 0x11f796d10>]\n",
      "Indonesië [<matplotlib.patches.Polygon object at 0x1202b8690>, <matplotlib.patches.Polygon object at 0x1202b8650>, <matplotlib.patches.Polygon object at 0x122ec0c50>, <matplotlib.patches.Polygon object at 0x120d0bed0>, <matplotlib.patches.Polygon object at 0x1202b8710>, <matplotlib.patches.Polygon object at 0x11c89bdd0>, <matplotlib.patches.Polygon object at 0x11c89b610>, <matplotlib.patches.Polygon object at 0x1202b8850>, <matplotlib.patches.Polygon object at 0x11c89b690>, <matplotlib.patches.Polygon object at 0x11f796350>, <matplotlib.patches.Polygon object at 0x11f796d10>, <matplotlib.patches.Polygon object at 0x11c89b090>]\n",
      "Indonesië [<matplotlib.patches.Polygon object at 0x1202b8690>, <matplotlib.patches.Polygon object at 0x1202b8650>, <matplotlib.patches.Polygon object at 0x122ec0c50>, <matplotlib.patches.Polygon object at 0x120d0bed0>, <matplotlib.patches.Polygon object at 0x1202b8710>, <matplotlib.patches.Polygon object at 0x11c89bdd0>, <matplotlib.patches.Polygon object at 0x11c89b610>, <matplotlib.patches.Polygon object at 0x1202b8850>, <matplotlib.patches.Polygon object at 0x11c89b690>, <matplotlib.patches.Polygon object at 0x11f796350>, <matplotlib.patches.Polygon object at 0x11f796d10>, <matplotlib.patches.Polygon object at 0x11c89b090>, <matplotlib.patches.Polygon object at 0x10bb39cd0>]\n"
     ]
    },
    {
     "name": "stdout",
     "output_type": "stream",
     "text": [
      "Argentinië [<matplotlib.patches.Polygon object at 0x120064d90>]\n",
      "Argentinië [<matplotlib.patches.Polygon object at 0x120064d90>, <matplotlib.patches.Polygon object at 0x1200642d0>]\n",
      "Chili [<matplotlib.patches.Polygon object at 0x12121df10>]\n",
      "Chili [<matplotlib.patches.Polygon object at 0x12121df10>, <matplotlib.patches.Polygon object at 0x1212106d0>]\n",
      "Congo-Kinshasa [<matplotlib.patches.Polygon object at 0x11f2a5c10>]\n",
      "Somalië [<matplotlib.patches.Polygon object at 0x11c975fd0>]\n",
      "Kenia [<matplotlib.patches.Polygon object at 0x11c767c10>]\n",
      "Soedan [<matplotlib.patches.Polygon object at 0x11f604590>]\n",
      "Tsjaad [<matplotlib.patches.Polygon object at 0x11eb048d0>]\n",
      "Haïti [<matplotlib.patches.Polygon object at 0x11c76eed0>]\n",
      "Dominicaanse Republiek [<matplotlib.patches.Polygon object at 0x11c8a8b10>]\n",
      "Rusland [<matplotlib.patches.Polygon object at 0x11ba46ad0>]\n",
      "Rusland [<matplotlib.patches.Polygon object at 0x11ba46ad0>, <matplotlib.patches.Polygon object at 0x11c8a1c90>]\n",
      "Rusland [<matplotlib.patches.Polygon object at 0x11ba46ad0>, <matplotlib.patches.Polygon object at 0x11c8a1c90>, <matplotlib.patches.Polygon object at 0x11c8acf90>]\n",
      "Rusland [<matplotlib.patches.Polygon object at 0x11ba46ad0>, <matplotlib.patches.Polygon object at 0x11c8a1c90>, <matplotlib.patches.Polygon object at 0x11c8acf90>, <matplotlib.patches.Polygon object at 0x11c8acfd0>]\n",
      "Rusland [<matplotlib.patches.Polygon object at 0x11ba46ad0>, <matplotlib.patches.Polygon object at 0x11c8a1c90>, <matplotlib.patches.Polygon object at 0x11c8acf90>, <matplotlib.patches.Polygon object at 0x11c8acfd0>, <matplotlib.patches.Polygon object at 0x11c9a5290>]\n",
      "Rusland [<matplotlib.patches.Polygon object at 0x11ba46ad0>, <matplotlib.patches.Polygon object at 0x11c8a1c90>, <matplotlib.patches.Polygon object at 0x11c8acf90>, <matplotlib.patches.Polygon object at 0x11c8acfd0>, <matplotlib.patches.Polygon object at 0x11c9a5290>, <matplotlib.patches.Polygon object at 0x11f50c110>]\n",
      "Rusland [<matplotlib.patches.Polygon object at 0x11ba46ad0>, <matplotlib.patches.Polygon object at 0x11c8a1c90>, <matplotlib.patches.Polygon object at 0x11c8acf90>, <matplotlib.patches.Polygon object at 0x11c8acfd0>, <matplotlib.patches.Polygon object at 0x11c9a5290>, <matplotlib.patches.Polygon object at 0x11f50c110>, <matplotlib.patches.Polygon object at 0x11c9a5c50>]\n",
      "Rusland [<matplotlib.patches.Polygon object at 0x11ba46ad0>, <matplotlib.patches.Polygon object at 0x11c8a1c90>, <matplotlib.patches.Polygon object at 0x11c8acf90>, <matplotlib.patches.Polygon object at 0x11c8acfd0>, <matplotlib.patches.Polygon object at 0x11c9a5290>, <matplotlib.patches.Polygon object at 0x11f50c110>, <matplotlib.patches.Polygon object at 0x11c9a5c50>, <matplotlib.patches.Polygon object at 0x11c8ac550>]\n",
      "Rusland [<matplotlib.patches.Polygon object at 0x11ba46ad0>, <matplotlib.patches.Polygon object at 0x11c8a1c90>, <matplotlib.patches.Polygon object at 0x11c8acf90>, <matplotlib.patches.Polygon object at 0x11c8acfd0>, <matplotlib.patches.Polygon object at 0x11c9a5290>, <matplotlib.patches.Polygon object at 0x11f50c110>, <matplotlib.patches.Polygon object at 0x11c9a5c50>, <matplotlib.patches.Polygon object at 0x11c8ac550>, <matplotlib.patches.Polygon object at 0x1209ee610>]\n",
      "Rusland [<matplotlib.patches.Polygon object at 0x11ba46ad0>, <matplotlib.patches.Polygon object at 0x11c8a1c90>, <matplotlib.patches.Polygon object at 0x11c8acf90>, <matplotlib.patches.Polygon object at 0x11c8acfd0>, <matplotlib.patches.Polygon object at 0x11c9a5290>, <matplotlib.patches.Polygon object at 0x11f50c110>, <matplotlib.patches.Polygon object at 0x11c9a5c50>, <matplotlib.patches.Polygon object at 0x11c8ac550>, <matplotlib.patches.Polygon object at 0x1209ee610>, <matplotlib.patches.Polygon object at 0x12151a450>]\n",
      "Rusland [<matplotlib.patches.Polygon object at 0x11ba46ad0>, <matplotlib.patches.Polygon object at 0x11c8a1c90>, <matplotlib.patches.Polygon object at 0x11c8acf90>, <matplotlib.patches.Polygon object at 0x11c8acfd0>, <matplotlib.patches.Polygon object at 0x11c9a5290>, <matplotlib.patches.Polygon object at 0x11f50c110>, <matplotlib.patches.Polygon object at 0x11c9a5c50>, <matplotlib.patches.Polygon object at 0x11c8ac550>, <matplotlib.patches.Polygon object at 0x1209ee610>, <matplotlib.patches.Polygon object at 0x12151a450>, <matplotlib.patches.Polygon object at 0x12151ac10>]\n",
      "Rusland [<matplotlib.patches.Polygon object at 0x11ba46ad0>, <matplotlib.patches.Polygon object at 0x11c8a1c90>, <matplotlib.patches.Polygon object at 0x11c8acf90>, <matplotlib.patches.Polygon object at 0x11c8acfd0>, <matplotlib.patches.Polygon object at 0x11c9a5290>, <matplotlib.patches.Polygon object at 0x11f50c110>, <matplotlib.patches.Polygon object at 0x11c9a5c50>, <matplotlib.patches.Polygon object at 0x11c8ac550>, <matplotlib.patches.Polygon object at 0x1209ee610>, <matplotlib.patches.Polygon object at 0x12151a450>, <matplotlib.patches.Polygon object at 0x12151ac10>, <matplotlib.patches.Polygon object at 0x12151a5d0>]\n",
      "Rusland [<matplotlib.patches.Polygon object at 0x11ba46ad0>, <matplotlib.patches.Polygon object at 0x11c8a1c90>, <matplotlib.patches.Polygon object at 0x11c8acf90>, <matplotlib.patches.Polygon object at 0x11c8acfd0>, <matplotlib.patches.Polygon object at 0x11c9a5290>, <matplotlib.patches.Polygon object at 0x11f50c110>, <matplotlib.patches.Polygon object at 0x11c9a5c50>, <matplotlib.patches.Polygon object at 0x11c8ac550>, <matplotlib.patches.Polygon object at 0x1209ee610>, <matplotlib.patches.Polygon object at 0x12151a450>, <matplotlib.patches.Polygon object at 0x12151ac10>, <matplotlib.patches.Polygon object at 0x12151a5d0>, <matplotlib.patches.Polygon object at 0x1211501d0>]\n",
      "Rusland [<matplotlib.patches.Polygon object at 0x11ba46ad0>, <matplotlib.patches.Polygon object at 0x11c8a1c90>, <matplotlib.patches.Polygon object at 0x11c8acf90>, <matplotlib.patches.Polygon object at 0x11c8acfd0>, <matplotlib.patches.Polygon object at 0x11c9a5290>, <matplotlib.patches.Polygon object at 0x11f50c110>, <matplotlib.patches.Polygon object at 0x11c9a5c50>, <matplotlib.patches.Polygon object at 0x11c8ac550>, <matplotlib.patches.Polygon object at 0x1209ee610>, <matplotlib.patches.Polygon object at 0x12151a450>, <matplotlib.patches.Polygon object at 0x12151ac10>, <matplotlib.patches.Polygon object at 0x12151a5d0>, <matplotlib.patches.Polygon object at 0x1211501d0>, <matplotlib.patches.Polygon object at 0x1209ee490>]\n",
      "Bahama's [<matplotlib.patches.Polygon object at 0x11f63a890>]\n",
      "Bahama's [<matplotlib.patches.Polygon object at 0x11f63a890>, <matplotlib.patches.Polygon object at 0x121eab310>]\n",
      "Bahama's [<matplotlib.patches.Polygon object at 0x11f63a890>, <matplotlib.patches.Polygon object at 0x121eab310>, <matplotlib.patches.Polygon object at 0x121eab6d0>]\n"
     ]
    },
    {
     "name": "stderr",
     "output_type": "stream",
     "text": [
      "/opt/anaconda3/lib/python3.7/site-packages/ipykernel_launcher.py:24: RuntimeWarning: More than 20 figures have been opened. Figures created through the pyplot interface (`matplotlib.pyplot.figure`) are retained until explicitly closed and may consume too much memory. (To control this warning, see the rcParam `figure.max_open_warning`).\n"
     ]
    },
    {
     "name": "stdout",
     "output_type": "stream",
     "text": [
      "Falklandeilanden [<matplotlib.patches.Polygon object at 0x11c6cfed0>]\n",
      "Noorwegen [<matplotlib.patches.Polygon object at 0x11c8a01d0>]\n",
      "Noorwegen [<matplotlib.patches.Polygon object at 0x11c8a01d0>, <matplotlib.patches.Polygon object at 0x11c8a0310>]\n",
      "Noorwegen [<matplotlib.patches.Polygon object at 0x11c8a01d0>, <matplotlib.patches.Polygon object at 0x11c8a0310>, <matplotlib.patches.Polygon object at 0x11d9ade10>]\n",
      "Noorwegen [<matplotlib.patches.Polygon object at 0x11c8a01d0>, <matplotlib.patches.Polygon object at 0x11c8a0310>, <matplotlib.patches.Polygon object at 0x11d9ade10>, <matplotlib.patches.Polygon object at 0x11d9adcd0>]\n",
      "Groenland [<matplotlib.patches.Polygon object at 0x11d198f90>]\n",
      "Franse Zuidelijke en Antarctische Gebieden [<matplotlib.patches.Polygon object at 0x11c92a710>]\n",
      "Oost-Timor [<matplotlib.patches.Polygon object at 0x11c9845d0>]\n",
      "Zuid-Afrika [<matplotlib.patches.Polygon object at 0x11c97cc50>]\n",
      "Zuid-Afrika [<matplotlib.patches.Polygon object at 0x11c97cc50>, <matplotlib.patches.Polygon object at 0x11fc53a10>]\n",
      "Lesotho [<matplotlib.patches.Polygon object at 0x11f51b350>]\n",
      "Mexico [<matplotlib.patches.Polygon object at 0x11c99d290>]\n",
      "Uruguay [<matplotlib.patches.Polygon object at 0x122cf8a10>]\n",
      "Brazilië [<matplotlib.patches.Polygon object at 0x120d75ed0>]\n",
      "Bolivia [<matplotlib.patches.Polygon object at 0x11d53ddd0>]\n",
      "Peru [<matplotlib.patches.Polygon object at 0x11c92aa90>]\n",
      "Colombia [<matplotlib.patches.Polygon object at 0x121218b50>]\n",
      "Panama [<matplotlib.patches.Polygon object at 0x11ebffa90>]\n",
      "Costa Rica [<matplotlib.patches.Polygon object at 0x11f207e50>]\n",
      "Nicaragua [<matplotlib.patches.Polygon object at 0x11fa3e1d0>]\n",
      "Honduras [<matplotlib.patches.Polygon object at 0x11f219dd0>]\n",
      "El Salvador [<matplotlib.patches.Polygon object at 0x11c885dd0>]\n",
      "Guatemala [<matplotlib.patches.Polygon object at 0x11c8a0290>]\n",
      "Belize [<matplotlib.patches.Polygon object at 0x12019ff10>]\n",
      "Venezuela [<matplotlib.patches.Polygon object at 0x121e89810>]\n",
      "Guyana [<matplotlib.patches.Polygon object at 0x121a6c6d0>]\n",
      "Suriname [<matplotlib.patches.Polygon object at 0x121000f90>]\n",
      "Frankrijk [<matplotlib.patches.Polygon object at 0x120a0c810>]\n",
      "Frankrijk [<matplotlib.patches.Polygon object at 0x120a0c810>, <matplotlib.patches.Polygon object at 0x11c9606d0>]\n",
      "Frankrijk [<matplotlib.patches.Polygon object at 0x120a0c810>, <matplotlib.patches.Polygon object at 0x11c9606d0>, <matplotlib.patches.Polygon object at 0x120a0ce10>]\n",
      "Ecuador [<matplotlib.patches.Polygon object at 0x11eae3c10>]\n",
      "Puerto Rico [<matplotlib.patches.Polygon object at 0x121022d50>]\n",
      "Jamaica [<matplotlib.patches.Polygon object at 0x12005f510>]\n",
      "Cuba [<matplotlib.patches.Polygon object at 0x11c948990>]\n",
      "Zimbabwe [<matplotlib.patches.Polygon object at 0x11fcf2650>]\n",
      "Botswana [<matplotlib.patches.Polygon object at 0x120d75690>]\n",
      "Namibië [<matplotlib.patches.Polygon object at 0x11c8a38d0>]\n",
      "Senegal [<matplotlib.patches.Polygon object at 0x10c73a890>]\n",
      "Mali [<matplotlib.patches.Polygon object at 0x1202b8750>]\n",
      "Mauritanië [<matplotlib.patches.Polygon object at 0x1219fc3d0>]\n",
      "Benin [<matplotlib.patches.Polygon object at 0x121a73490>]\n",
      "Niger [<matplotlib.patches.Polygon object at 0x120aa6210>]\n",
      "Nigeria [<matplotlib.patches.Polygon object at 0x11ff1f810>]\n",
      "Kameroen [<matplotlib.patches.Polygon object at 0x11c927a10>]\n",
      "Togo [<matplotlib.patches.Polygon object at 0x11c864a50>]\n",
      "Ghana [<matplotlib.patches.Polygon object at 0x121db4790>]\n",
      "Ivoorkust [<matplotlib.patches.Polygon object at 0x121693e90>]\n",
      "Guinee [<matplotlib.patches.Polygon object at 0x11c8abe90>]\n",
      "Guinee-Bissau [<matplotlib.patches.Polygon object at 0x11c97c050>]\n",
      "Liberia [<matplotlib.patches.Polygon object at 0x1210fb510>]\n",
      "Sierra Leone [<matplotlib.patches.Polygon object at 0x10bced490>]\n",
      "Burkina Faso [<matplotlib.patches.Polygon object at 0x11e9cfad0>]\n",
      "Centraal-Afrikaanse Republiek [<matplotlib.patches.Polygon object at 0x120d89290>]\n",
      "Republiek Congo [<matplotlib.patches.Polygon object at 0x11c98dcd0>]\n",
      "Gabon [<matplotlib.patches.Polygon object at 0x11f63a650>]\n",
      "Equatoriaal-Guinea [<matplotlib.patches.Polygon object at 0x121d14650>]\n",
      "Zambia [<matplotlib.patches.Polygon object at 0x11d5495d0>]\n",
      "Malawi [<matplotlib.patches.Polygon object at 0x11c98d3d0>]\n",
      "Mozambique [<matplotlib.patches.Polygon object at 0x11fcf2b90>]\n",
      "Swaziland [<matplotlib.patches.Polygon object at 0x1212dac50>]\n",
      "Angola [<matplotlib.patches.Polygon object at 0x1219e62d0>]\n",
      "Angola [<matplotlib.patches.Polygon object at 0x1219e62d0>, <matplotlib.patches.Polygon object at 0x1219e6f50>]\n",
      "Burundi [<matplotlib.patches.Polygon object at 0x1216937d0>]\n",
      "Israël [<matplotlib.patches.Polygon object at 0x1215aac50>]\n",
      "Libanon [<matplotlib.patches.Polygon object at 0x11d264e90>]\n",
      "Madagaskar [<matplotlib.patches.Polygon object at 0x11e0fac90>]\n",
      "Palestina [<matplotlib.patches.Polygon object at 0x11f528c50>]\n",
      "Gambia [<matplotlib.patches.Polygon object at 0x120dabc10>]\n",
      "Tunesië [<matplotlib.patches.Polygon object at 0x121a24590>]\n",
      "Algerije [<matplotlib.patches.Polygon object at 0x11f22ed10>]\n",
      "Jordanië [<matplotlib.patches.Polygon object at 0x11fae3910>]\n",
      "Verenigde Arabische Emiraten [<matplotlib.patches.Polygon object at 0x121123390>]\n",
      "Qatar [<matplotlib.patches.Polygon object at 0x1207bcad0>]\n",
      "Koeweit [<matplotlib.patches.Polygon object at 0x11f39c850>]\n",
      "Irak [<matplotlib.patches.Polygon object at 0x1201b41d0>]\n",
      "Oman [<matplotlib.patches.Polygon object at 0x11fae3350>]\n",
      "Oman [<matplotlib.patches.Polygon object at 0x11fae3350>, <matplotlib.patches.Polygon object at 0x1201b4dd0>]\n",
      "Vanuatu [<matplotlib.patches.Polygon object at 0x10bc7b5d0>]\n",
      "Vanuatu [<matplotlib.patches.Polygon object at 0x10bc7b5d0>, <matplotlib.patches.Polygon object at 0x10bc7bad0>]\n",
      "Cambodja [<matplotlib.patches.Polygon object at 0x1212dac50>]\n",
      "Thailand [<matplotlib.patches.Polygon object at 0x11c960690>]\n",
      "Laos [<matplotlib.patches.Polygon object at 0x11c864a10>]\n",
      "Myanmar [<matplotlib.patches.Polygon object at 0x122c0b710>]\n",
      "Vietnam [<matplotlib.patches.Polygon object at 0x11c98d290>]\n",
      "Noord-Korea [<matplotlib.patches.Polygon object at 0x11d549410>]\n",
      "Noord-Korea [<matplotlib.patches.Polygon object at 0x11d549410>, <matplotlib.patches.Polygon object at 0x11d549d50>]\n",
      "Zuid-Korea [<matplotlib.patches.Polygon object at 0x11f2a5990>]\n",
      "Mongolië [<matplotlib.patches.Polygon object at 0x11c953ed0>]\n",
      "India [<matplotlib.patches.Polygon object at 0x121218b90>]\n",
      "Bangladesh [<matplotlib.patches.Polygon object at 0x11e6181d0>]\n",
      "Bhutan [<matplotlib.patches.Polygon object at 0x121db5fd0>]\n",
      "Nepal [<matplotlib.patches.Polygon object at 0x11d53e2d0>]\n",
      "Pakistan [<matplotlib.patches.Polygon object at 0x11eb86dd0>]\n",
      "Afghanistan [<matplotlib.patches.Polygon object at 0x11c923890>]\n",
      "Tadzjikistan [<matplotlib.patches.Polygon object at 0x11c654f10>]\n",
      "Kirgizië [<matplotlib.patches.Polygon object at 0x11c85b4d0>]\n",
      "Turkmenistan [<matplotlib.patches.Polygon object at 0x11fff8710>]\n",
      "Iran [<matplotlib.patches.Polygon object at 0x11c960590>]\n",
      "Syrië [<matplotlib.patches.Polygon object at 0x122cf6ed0>]\n",
      "Armenië [<matplotlib.patches.Polygon object at 0x1210f0710>]\n",
      "Zweden [<matplotlib.patches.Polygon object at 0x121e62350>]\n",
      "Wit-Rusland [<matplotlib.patches.Polygon object at 0x121986e10>]\n",
      "Oekraïne [<matplotlib.patches.Polygon object at 0x120dd6bd0>]\n",
      "Polen [<matplotlib.patches.Polygon object at 0x121365c90>]\n",
      "Oostenrijk [<matplotlib.patches.Polygon object at 0x11c6dd890>]\n",
      "Hongarije [<matplotlib.patches.Polygon object at 0x1201f5150>]\n",
      "Moldavië [<matplotlib.patches.Polygon object at 0x11f0d8590>]\n",
      "Roemenië [<matplotlib.patches.Polygon object at 0x1201bc190>]\n",
      "Litouwen [<matplotlib.patches.Polygon object at 0x12188a590>]\n",
      "Letland [<matplotlib.patches.Polygon object at 0x11c6ee190>]\n",
      "Estland [<matplotlib.patches.Polygon object at 0x121d20ad0>]\n",
      "Duitsland [<matplotlib.patches.Polygon object at 0x121107fd0>]\n",
      "Bulgarije [<matplotlib.patches.Polygon object at 0x11f2075d0>]\n",
      "Griekenland [<matplotlib.patches.Polygon object at 0x11d9dc5d0>]\n",
      "Griekenland [<matplotlib.patches.Polygon object at 0x11d9dc5d0>, <matplotlib.patches.Polygon object at 0x11d13d110>]\n",
      "Turkije [<matplotlib.patches.Polygon object at 0x121a6c610>]\n",
      "Turkije [<matplotlib.patches.Polygon object at 0x121a6c610>, <matplotlib.patches.Polygon object at 0x121a6c490>]\n",
      "Albanië [<matplotlib.patches.Polygon object at 0x12009ced0>]\n"
     ]
    },
    {
     "name": "stdout",
     "output_type": "stream",
     "text": [
      "Kroatië [<matplotlib.patches.Polygon object at 0x12150c3d0>]\n",
      "Zwitserland [<matplotlib.patches.Polygon object at 0x11c9600d0>]\n",
      "Luxemburg [<matplotlib.patches.Polygon object at 0x11eaa3a10>]\n",
      "België [<matplotlib.patches.Polygon object at 0x11fd8b050>]\n",
      "Nederland [<matplotlib.patches.Polygon object at 0x1201b4a10>]\n",
      "Portugal [<matplotlib.patches.Polygon object at 0x11d464fd0>]\n",
      "Spanje [<matplotlib.patches.Polygon object at 0x11f7e6190>]\n",
      "Ierland [<matplotlib.patches.Polygon object at 0x11ea73a10>]\n",
      "Nieuw-Caledonië [<matplotlib.patches.Polygon object at 0x11c99f9d0>]\n",
      "Salomonseilanden [<matplotlib.patches.Polygon object at 0x11fb20410>]\n",
      "Salomonseilanden [<matplotlib.patches.Polygon object at 0x11fb20410>, <matplotlib.patches.Polygon object at 0x11fb20b50>]\n",
      "Salomonseilanden [<matplotlib.patches.Polygon object at 0x11fb20410>, <matplotlib.patches.Polygon object at 0x11fb20b50>, <matplotlib.patches.Polygon object at 0x11c68ed50>]\n",
      "Salomonseilanden [<matplotlib.patches.Polygon object at 0x11fb20410>, <matplotlib.patches.Polygon object at 0x11fb20b50>, <matplotlib.patches.Polygon object at 0x11c68ed50>, <matplotlib.patches.Polygon object at 0x11c68e7d0>]\n",
      "Salomonseilanden [<matplotlib.patches.Polygon object at 0x11fb20410>, <matplotlib.patches.Polygon object at 0x11fb20b50>, <matplotlib.patches.Polygon object at 0x11c68ed50>, <matplotlib.patches.Polygon object at 0x11c68e7d0>, <matplotlib.patches.Polygon object at 0x122c22fd0>]\n",
      "Nieuw-Zeeland [<matplotlib.patches.Polygon object at 0x11f10b110>]\n",
      "Nieuw-Zeeland [<matplotlib.patches.Polygon object at 0x11f10b110>, <matplotlib.patches.Polygon object at 0x11f10b490>]\n",
      "Australië [<matplotlib.patches.Polygon object at 0x121e99710>]\n",
      "Australië [<matplotlib.patches.Polygon object at 0x121e99710>, <matplotlib.patches.Polygon object at 0x121e99610>]\n",
      "Sri Lanka [<matplotlib.patches.Polygon object at 0x1204c2b50>]\n",
      "Volksrepubliek China [<matplotlib.patches.Polygon object at 0x11d43c710>]\n",
      "Volksrepubliek China [<matplotlib.patches.Polygon object at 0x11d43c710>, <matplotlib.patches.Polygon object at 0x11d43c850>]\n",
      "Taiwan [<matplotlib.patches.Polygon object at 0x121d1b090>]\n",
      "Italië [<matplotlib.patches.Polygon object at 0x120e5ef50>]\n",
      "Italië [<matplotlib.patches.Polygon object at 0x120e5ef50>, <matplotlib.patches.Polygon object at 0x1202d3c90>]\n",
      "Italië [<matplotlib.patches.Polygon object at 0x120e5ef50>, <matplotlib.patches.Polygon object at 0x1202d3c90>, <matplotlib.patches.Polygon object at 0x1202d3a50>]\n",
      "Denemarken [<matplotlib.patches.Polygon object at 0x11f0d63d0>]\n",
      "Denemarken [<matplotlib.patches.Polygon object at 0x11f0d63d0>, <matplotlib.patches.Polygon object at 0x11f0d6bd0>]\n",
      "Verenigd Koninkrijk [<matplotlib.patches.Polygon object at 0x11fcf2550>]\n",
      "Verenigd Koninkrijk [<matplotlib.patches.Polygon object at 0x11fcf2550>, <matplotlib.patches.Polygon object at 0x11fae3e50>]\n",
      "IJsland [<matplotlib.patches.Polygon object at 0x11d173610>]\n",
      "Azerbeidzjan [<matplotlib.patches.Polygon object at 0x11f0d6350>]\n",
      "Azerbeidzjan [<matplotlib.patches.Polygon object at 0x11f0d6350>, <matplotlib.patches.Polygon object at 0x11f0d6d90>]\n",
      "Georgië [<matplotlib.patches.Polygon object at 0x120a0c310>]\n",
      "Filipijnen [<matplotlib.patches.Polygon object at 0x12100e4d0>]\n",
      "Filipijnen [<matplotlib.patches.Polygon object at 0x12100e4d0>, <matplotlib.patches.Polygon object at 0x12100e150>]\n",
      "Filipijnen [<matplotlib.patches.Polygon object at 0x12100e4d0>, <matplotlib.patches.Polygon object at 0x12100e150>, <matplotlib.patches.Polygon object at 0x12100e690>]\n",
      "Filipijnen [<matplotlib.patches.Polygon object at 0x12100e4d0>, <matplotlib.patches.Polygon object at 0x12100e150>, <matplotlib.patches.Polygon object at 0x12100e690>, <matplotlib.patches.Polygon object at 0x11f219d10>]\n",
      "Filipijnen [<matplotlib.patches.Polygon object at 0x12100e4d0>, <matplotlib.patches.Polygon object at 0x12100e150>, <matplotlib.patches.Polygon object at 0x12100e690>, <matplotlib.patches.Polygon object at 0x11f219d10>, <matplotlib.patches.Polygon object at 0x12100edd0>]\n",
      "Filipijnen [<matplotlib.patches.Polygon object at 0x12100e4d0>, <matplotlib.patches.Polygon object at 0x12100e150>, <matplotlib.patches.Polygon object at 0x12100e690>, <matplotlib.patches.Polygon object at 0x11f219d10>, <matplotlib.patches.Polygon object at 0x12100edd0>, <matplotlib.patches.Polygon object at 0x11c91a5d0>]\n",
      "Filipijnen [<matplotlib.patches.Polygon object at 0x12100e4d0>, <matplotlib.patches.Polygon object at 0x12100e150>, <matplotlib.patches.Polygon object at 0x12100e690>, <matplotlib.patches.Polygon object at 0x11f219d10>, <matplotlib.patches.Polygon object at 0x12100edd0>, <matplotlib.patches.Polygon object at 0x11c91a5d0>, <matplotlib.patches.Polygon object at 0x11c96b0d0>]\n",
      "Maleisië [<matplotlib.patches.Polygon object at 0x11c94e450>]\n",
      "Maleisië [<matplotlib.patches.Polygon object at 0x11c94e450>, <matplotlib.patches.Polygon object at 0x10c723750>]\n",
      "Brunei [<matplotlib.patches.Polygon object at 0x10bcd9ed0>]\n",
      "Slovenië [<matplotlib.patches.Polygon object at 0x11f3f0910>]\n",
      "Finland [<matplotlib.patches.Polygon object at 0x11ffd1190>]\n",
      "Slowakije [<matplotlib.patches.Polygon object at 0x120d873d0>]\n",
      "Tsjechië [<matplotlib.patches.Polygon object at 0x11e340990>]\n",
      "Eritrea [<matplotlib.patches.Polygon object at 0x121a8b210>]\n",
      "Japan [<matplotlib.patches.Polygon object at 0x11c9a5590>]\n",
      "Japan [<matplotlib.patches.Polygon object at 0x11c9a5590>, <matplotlib.patches.Polygon object at 0x11d738990>]\n",
      "Japan [<matplotlib.patches.Polygon object at 0x11c9a5590>, <matplotlib.patches.Polygon object at 0x11d738990>, <matplotlib.patches.Polygon object at 0x11c9a58d0>]\n",
      "Paraguay [<matplotlib.patches.Polygon object at 0x12190c5d0>]\n",
      "Jemen [<matplotlib.patches.Polygon object at 0x12187efd0>]\n",
      "Saoedi-Arabië [<matplotlib.patches.Polygon object at 0x11c94fbd0>]\n",
      "Antarctica [<matplotlib.patches.Polygon object at 0x11c99fa10>]\n",
      "Antarctica [<matplotlib.patches.Polygon object at 0x11c99fa10>, <matplotlib.patches.Polygon object at 0x11c99f450>]\n",
      "Antarctica [<matplotlib.patches.Polygon object at 0x11c99fa10>, <matplotlib.patches.Polygon object at 0x11c99f450>, <matplotlib.patches.Polygon object at 0x121ad8210>]\n",
      "Antarctica [<matplotlib.patches.Polygon object at 0x11c99fa10>, <matplotlib.patches.Polygon object at 0x11c99f450>, <matplotlib.patches.Polygon object at 0x121ad8210>, <matplotlib.patches.Polygon object at 0x11c9296d0>]\n",
      "Antarctica [<matplotlib.patches.Polygon object at 0x11c99fa10>, <matplotlib.patches.Polygon object at 0x11c99f450>, <matplotlib.patches.Polygon object at 0x121ad8210>, <matplotlib.patches.Polygon object at 0x11c9296d0>, <matplotlib.patches.Polygon object at 0x121693950>]\n",
      "Antarctica [<matplotlib.patches.Polygon object at 0x11c99fa10>, <matplotlib.patches.Polygon object at 0x11c99f450>, <matplotlib.patches.Polygon object at 0x121ad8210>, <matplotlib.patches.Polygon object at 0x11c9296d0>, <matplotlib.patches.Polygon object at 0x121693950>, <matplotlib.patches.Polygon object at 0x122701e50>]\n",
      "Antarctica [<matplotlib.patches.Polygon object at 0x11c99fa10>, <matplotlib.patches.Polygon object at 0x11c99f450>, <matplotlib.patches.Polygon object at 0x121ad8210>, <matplotlib.patches.Polygon object at 0x11c9296d0>, <matplotlib.patches.Polygon object at 0x121693950>, <matplotlib.patches.Polygon object at 0x122701e50>, <matplotlib.patches.Polygon object at 0x122701bd0>]\n",
      "Antarctica [<matplotlib.patches.Polygon object at 0x11c99fa10>, <matplotlib.patches.Polygon object at 0x11c99f450>, <matplotlib.patches.Polygon object at 0x121ad8210>, <matplotlib.patches.Polygon object at 0x11c9296d0>, <matplotlib.patches.Polygon object at 0x121693950>, <matplotlib.patches.Polygon object at 0x122701e50>, <matplotlib.patches.Polygon object at 0x122701bd0>, <matplotlib.patches.Polygon object at 0x121693c10>]\n",
      "Noord-Cyprus [<matplotlib.patches.Polygon object at 0x120cfe410>]\n",
      "Cyprus [<matplotlib.patches.Polygon object at 0x11c997750>]\n",
      "Marokko [<matplotlib.patches.Polygon object at 0x1204a7d90>]\n",
      "Egypte [<matplotlib.patches.Polygon object at 0x11c96ef90>]\n",
      "Libië [<matplotlib.patches.Polygon object at 0x1229bf3d0>]\n",
      "Ethiopië [<matplotlib.patches.Polygon object at 0x1204f2d90>]\n",
      "Djibouti [<matplotlib.patches.Polygon object at 0x1202d13d0>]\n",
      "Somaliland [<matplotlib.patches.Polygon object at 0x10bcd9ad0>]\n"
     ]
    },
    {
     "name": "stdout",
     "output_type": "stream",
     "text": [
      "Oeganda [<matplotlib.patches.Polygon object at 0x11caebbd0>]\n",
      "Rwanda [<matplotlib.patches.Polygon object at 0x12079a490>]\n",
      "Bosnië en Herzegovina [<matplotlib.patches.Polygon object at 0x11f3fd050>]\n",
      "Macedonië [<matplotlib.patches.Polygon object at 0x121e87f90>]\n",
      "Servië [<matplotlib.patches.Polygon object at 0x11f7f33d0>]\n",
      "Montenegro [<matplotlib.patches.Polygon object at 0x12008b910>]\n",
      "Kosovo [<matplotlib.patches.Polygon object at 0x12188a4d0>]\n",
      "Trinidad en Tobago [<matplotlib.patches.Polygon object at 0x11f0d2d90>]\n",
      "Zuid-Soedan [<matplotlib.patches.Polygon object at 0x11f7afe90>]\n"
     ]
    },
    {
     "data": {
      "text/plain": [
       "<Figure size 1152x576 with 0 Axes>"
      ]
     },
     "metadata": {},
     "output_type": "display_data"
    },
    {
     "data": {
      "text/plain": [
       "<Figure size 1152x576 with 0 Axes>"
      ]
     },
     "metadata": {},
     "output_type": "display_data"
    },
    {
     "data": {
      "text/plain": [
       "<Figure size 1152x576 with 0 Axes>"
      ]
     },
     "metadata": {},
     "output_type": "display_data"
    },
    {
     "data": {
      "text/plain": [
       "<Figure size 1152x576 with 0 Axes>"
      ]
     },
     "metadata": {},
     "output_type": "display_data"
    },
    {
     "data": {
      "text/plain": [
       "<Figure size 1152x576 with 0 Axes>"
      ]
     },
     "metadata": {},
     "output_type": "display_data"
    },
    {
     "data": {
      "text/plain": [
       "<Figure size 1152x576 with 0 Axes>"
      ]
     },
     "metadata": {},
     "output_type": "display_data"
    },
    {
     "data": {
      "text/plain": [
       "<Figure size 1152x576 with 0 Axes>"
      ]
     },
     "metadata": {},
     "output_type": "display_data"
    },
    {
     "data": {
      "text/plain": [
       "<Figure size 1152x576 with 0 Axes>"
      ]
     },
     "metadata": {},
     "output_type": "display_data"
    },
    {
     "data": {
      "text/plain": [
       "<Figure size 1152x576 with 0 Axes>"
      ]
     },
     "metadata": {},
     "output_type": "display_data"
    },
    {
     "data": {
      "text/plain": [
       "<Figure size 1152x576 with 0 Axes>"
      ]
     },
     "metadata": {},
     "output_type": "display_data"
    },
    {
     "data": {
      "text/plain": [
       "<Figure size 1152x576 with 0 Axes>"
      ]
     },
     "metadata": {},
     "output_type": "display_data"
    },
    {
     "data": {
      "text/plain": [
       "<Figure size 1152x576 with 0 Axes>"
      ]
     },
     "metadata": {},
     "output_type": "display_data"
    },
    {
     "data": {
      "text/plain": [
       "<Figure size 1152x576 with 0 Axes>"
      ]
     },
     "metadata": {},
     "output_type": "display_data"
    },
    {
     "data": {
      "text/plain": [
       "<Figure size 1152x576 with 0 Axes>"
      ]
     },
     "metadata": {},
     "output_type": "display_data"
    },
    {
     "data": {
      "text/plain": [
       "<Figure size 1152x576 with 0 Axes>"
      ]
     },
     "metadata": {},
     "output_type": "display_data"
    },
    {
     "data": {
      "text/plain": [
       "<Figure size 1152x576 with 0 Axes>"
      ]
     },
     "metadata": {},
     "output_type": "display_data"
    },
    {
     "data": {
      "text/plain": [
       "<Figure size 1152x576 with 0 Axes>"
      ]
     },
     "metadata": {},
     "output_type": "display_data"
    },
    {
     "data": {
      "text/plain": [
       "<Figure size 1152x576 with 0 Axes>"
      ]
     },
     "metadata": {},
     "output_type": "display_data"
    },
    {
     "data": {
      "text/plain": [
       "<Figure size 1152x576 with 0 Axes>"
      ]
     },
     "metadata": {},
     "output_type": "display_data"
    },
    {
     "data": {
      "text/plain": [
       "<Figure size 1152x576 with 0 Axes>"
      ]
     },
     "metadata": {},
     "output_type": "display_data"
    },
    {
     "data": {
      "text/plain": [
       "<Figure size 1152x576 with 0 Axes>"
      ]
     },
     "metadata": {},
     "output_type": "display_data"
    },
    {
     "data": {
      "text/plain": [
       "<Figure size 1152x576 with 0 Axes>"
      ]
     },
     "metadata": {},
     "output_type": "display_data"
    },
    {
     "data": {
      "text/plain": [
       "<Figure size 1152x576 with 0 Axes>"
      ]
     },
     "metadata": {},
     "output_type": "display_data"
    },
    {
     "data": {
      "text/plain": [
       "<Figure size 1152x576 with 0 Axes>"
      ]
     },
     "metadata": {},
     "output_type": "display_data"
    },
    {
     "data": {
      "text/plain": [
       "<Figure size 1152x576 with 0 Axes>"
      ]
     },
     "metadata": {},
     "output_type": "display_data"
    },
    {
     "data": {
      "text/plain": [
       "<Figure size 1152x576 with 0 Axes>"
      ]
     },
     "metadata": {},
     "output_type": "display_data"
    },
    {
     "data": {
      "text/plain": [
       "<Figure size 1152x576 with 0 Axes>"
      ]
     },
     "metadata": {},
     "output_type": "display_data"
    },
    {
     "data": {
      "text/plain": [
       "<Figure size 1152x576 with 0 Axes>"
      ]
     },
     "metadata": {},
     "output_type": "display_data"
    },
    {
     "data": {
      "text/plain": [
       "<Figure size 1152x576 with 0 Axes>"
      ]
     },
     "metadata": {},
     "output_type": "display_data"
    },
    {
     "data": {
      "text/plain": [
       "<Figure size 1152x576 with 0 Axes>"
      ]
     },
     "metadata": {},
     "output_type": "display_data"
    },
    {
     "data": {
      "text/plain": [
       "<Figure size 1152x576 with 0 Axes>"
      ]
     },
     "metadata": {},
     "output_type": "display_data"
    },
    {
     "data": {
      "text/plain": [
       "<Figure size 1152x576 with 0 Axes>"
      ]
     },
     "metadata": {},
     "output_type": "display_data"
    },
    {
     "data": {
      "text/plain": [
       "<Figure size 1152x576 with 0 Axes>"
      ]
     },
     "metadata": {},
     "output_type": "display_data"
    },
    {
     "data": {
      "text/plain": [
       "<Figure size 1152x576 with 0 Axes>"
      ]
     },
     "metadata": {},
     "output_type": "display_data"
    },
    {
     "data": {
      "text/plain": [
       "<Figure size 1152x576 with 0 Axes>"
      ]
     },
     "metadata": {},
     "output_type": "display_data"
    },
    {
     "data": {
      "text/plain": [
       "<Figure size 1152x576 with 0 Axes>"
      ]
     },
     "metadata": {},
     "output_type": "display_data"
    },
    {
     "data": {
      "text/plain": [
       "<Figure size 1152x576 with 0 Axes>"
      ]
     },
     "metadata": {},
     "output_type": "display_data"
    },
    {
     "data": {
      "text/plain": [
       "<Figure size 1152x576 with 0 Axes>"
      ]
     },
     "metadata": {},
     "output_type": "display_data"
    },
    {
     "data": {
      "text/plain": [
       "<Figure size 1152x576 with 0 Axes>"
      ]
     },
     "metadata": {},
     "output_type": "display_data"
    },
    {
     "data": {
      "text/plain": [
       "<Figure size 1152x576 with 0 Axes>"
      ]
     },
     "metadata": {},
     "output_type": "display_data"
    },
    {
     "data": {
      "text/plain": [
       "<Figure size 1152x576 with 0 Axes>"
      ]
     },
     "metadata": {},
     "output_type": "display_data"
    },
    {
     "data": {
      "text/plain": [
       "<Figure size 1152x576 with 0 Axes>"
      ]
     },
     "metadata": {},
     "output_type": "display_data"
    },
    {
     "data": {
      "text/plain": [
       "<Figure size 1152x576 with 0 Axes>"
      ]
     },
     "metadata": {},
     "output_type": "display_data"
    },
    {
     "data": {
      "text/plain": [
       "<Figure size 1152x576 with 0 Axes>"
      ]
     },
     "metadata": {},
     "output_type": "display_data"
    },
    {
     "data": {
      "text/plain": [
       "<Figure size 1152x576 with 0 Axes>"
      ]
     },
     "metadata": {},
     "output_type": "display_data"
    },
    {
     "data": {
      "text/plain": [
       "<Figure size 1152x576 with 0 Axes>"
      ]
     },
     "metadata": {},
     "output_type": "display_data"
    },
    {
     "data": {
      "text/plain": [
       "<Figure size 1152x576 with 0 Axes>"
      ]
     },
     "metadata": {},
     "output_type": "display_data"
    },
    {
     "data": {
      "text/plain": [
       "<Figure size 1152x576 with 0 Axes>"
      ]
     },
     "metadata": {},
     "output_type": "display_data"
    },
    {
     "data": {
      "text/plain": [
       "<Figure size 1152x576 with 0 Axes>"
      ]
     },
     "metadata": {},
     "output_type": "display_data"
    },
    {
     "data": {
      "text/plain": [
       "<Figure size 1152x576 with 0 Axes>"
      ]
     },
     "metadata": {},
     "output_type": "display_data"
    },
    {
     "data": {
      "text/plain": [
       "<Figure size 1152x576 with 0 Axes>"
      ]
     },
     "metadata": {},
     "output_type": "display_data"
    },
    {
     "data": {
      "text/plain": [
       "<Figure size 1152x576 with 0 Axes>"
      ]
     },
     "metadata": {},
     "output_type": "display_data"
    },
    {
     "data": {
      "text/plain": [
       "<Figure size 1152x576 with 0 Axes>"
      ]
     },
     "metadata": {},
     "output_type": "display_data"
    },
    {
     "data": {
      "text/plain": [
       "<Figure size 1152x576 with 0 Axes>"
      ]
     },
     "metadata": {},
     "output_type": "display_data"
    },
    {
     "data": {
      "text/plain": [
       "<Figure size 1152x576 with 0 Axes>"
      ]
     },
     "metadata": {},
     "output_type": "display_data"
    },
    {
     "data": {
      "text/plain": [
       "<Figure size 1152x576 with 0 Axes>"
      ]
     },
     "metadata": {},
     "output_type": "display_data"
    },
    {
     "data": {
      "text/plain": [
       "<Figure size 1152x576 with 0 Axes>"
      ]
     },
     "metadata": {},
     "output_type": "display_data"
    },
    {
     "data": {
      "text/plain": [
       "<Figure size 1152x576 with 0 Axes>"
      ]
     },
     "metadata": {},
     "output_type": "display_data"
    },
    {
     "data": {
      "text/plain": [
       "<Figure size 1152x576 with 0 Axes>"
      ]
     },
     "metadata": {},
     "output_type": "display_data"
    },
    {
     "data": {
      "text/plain": [
       "<Figure size 1152x576 with 0 Axes>"
      ]
     },
     "metadata": {},
     "output_type": "display_data"
    },
    {
     "data": {
      "text/plain": [
       "<Figure size 1152x576 with 0 Axes>"
      ]
     },
     "metadata": {},
     "output_type": "display_data"
    },
    {
     "data": {
      "text/plain": [
       "<Figure size 1152x576 with 0 Axes>"
      ]
     },
     "metadata": {},
     "output_type": "display_data"
    },
    {
     "data": {
      "text/plain": [
       "<Figure size 1152x576 with 0 Axes>"
      ]
     },
     "metadata": {},
     "output_type": "display_data"
    },
    {
     "data": {
      "text/plain": [
       "<Figure size 1152x576 with 0 Axes>"
      ]
     },
     "metadata": {},
     "output_type": "display_data"
    },
    {
     "data": {
      "text/plain": [
       "<Figure size 1152x576 with 0 Axes>"
      ]
     },
     "metadata": {},
     "output_type": "display_data"
    },
    {
     "data": {
      "text/plain": [
       "<Figure size 1152x576 with 0 Axes>"
      ]
     },
     "metadata": {},
     "output_type": "display_data"
    },
    {
     "data": {
      "text/plain": [
       "<Figure size 1152x576 with 0 Axes>"
      ]
     },
     "metadata": {},
     "output_type": "display_data"
    },
    {
     "data": {
      "text/plain": [
       "<Figure size 1152x576 with 0 Axes>"
      ]
     },
     "metadata": {},
     "output_type": "display_data"
    },
    {
     "data": {
      "text/plain": [
       "<Figure size 1152x576 with 0 Axes>"
      ]
     },
     "metadata": {},
     "output_type": "display_data"
    },
    {
     "data": {
      "text/plain": [
       "<Figure size 1152x576 with 0 Axes>"
      ]
     },
     "metadata": {},
     "output_type": "display_data"
    },
    {
     "data": {
      "text/plain": [
       "<Figure size 1152x576 with 0 Axes>"
      ]
     },
     "metadata": {},
     "output_type": "display_data"
    },
    {
     "data": {
      "text/plain": [
       "<Figure size 1152x576 with 0 Axes>"
      ]
     },
     "metadata": {},
     "output_type": "display_data"
    },
    {
     "data": {
      "text/plain": [
       "<Figure size 1152x576 with 0 Axes>"
      ]
     },
     "metadata": {},
     "output_type": "display_data"
    },
    {
     "data": {
      "text/plain": [
       "<Figure size 1152x576 with 0 Axes>"
      ]
     },
     "metadata": {},
     "output_type": "display_data"
    },
    {
     "data": {
      "text/plain": [
       "<Figure size 1152x576 with 0 Axes>"
      ]
     },
     "metadata": {},
     "output_type": "display_data"
    },
    {
     "data": {
      "text/plain": [
       "<Figure size 1152x576 with 0 Axes>"
      ]
     },
     "metadata": {},
     "output_type": "display_data"
    },
    {
     "data": {
      "text/plain": [
       "<Figure size 1152x576 with 0 Axes>"
      ]
     },
     "metadata": {},
     "output_type": "display_data"
    },
    {
     "data": {
      "text/plain": [
       "<Figure size 1152x576 with 0 Axes>"
      ]
     },
     "metadata": {},
     "output_type": "display_data"
    },
    {
     "data": {
      "text/plain": [
       "<Figure size 1152x576 with 0 Axes>"
      ]
     },
     "metadata": {},
     "output_type": "display_data"
    },
    {
     "data": {
      "text/plain": [
       "<Figure size 1152x576 with 0 Axes>"
      ]
     },
     "metadata": {},
     "output_type": "display_data"
    },
    {
     "data": {
      "text/plain": [
       "<Figure size 1152x576 with 0 Axes>"
      ]
     },
     "metadata": {},
     "output_type": "display_data"
    },
    {
     "data": {
      "text/plain": [
       "<Figure size 1152x576 with 0 Axes>"
      ]
     },
     "metadata": {},
     "output_type": "display_data"
    },
    {
     "data": {
      "text/plain": [
       "<Figure size 1152x576 with 0 Axes>"
      ]
     },
     "metadata": {},
     "output_type": "display_data"
    },
    {
     "data": {
      "text/plain": [
       "<Figure size 1152x576 with 0 Axes>"
      ]
     },
     "metadata": {},
     "output_type": "display_data"
    },
    {
     "data": {
      "text/plain": [
       "<Figure size 1152x576 with 0 Axes>"
      ]
     },
     "metadata": {},
     "output_type": "display_data"
    },
    {
     "data": {
      "text/plain": [
       "<Figure size 1152x576 with 0 Axes>"
      ]
     },
     "metadata": {},
     "output_type": "display_data"
    },
    {
     "data": {
      "text/plain": [
       "<Figure size 1152x576 with 0 Axes>"
      ]
     },
     "metadata": {},
     "output_type": "display_data"
    },
    {
     "data": {
      "text/plain": [
       "<Figure size 1152x576 with 0 Axes>"
      ]
     },
     "metadata": {},
     "output_type": "display_data"
    },
    {
     "data": {
      "text/plain": [
       "<Figure size 1152x576 with 0 Axes>"
      ]
     },
     "metadata": {},
     "output_type": "display_data"
    },
    {
     "data": {
      "text/plain": [
       "<Figure size 1152x576 with 0 Axes>"
      ]
     },
     "metadata": {},
     "output_type": "display_data"
    },
    {
     "data": {
      "text/plain": [
       "<Figure size 1152x576 with 0 Axes>"
      ]
     },
     "metadata": {},
     "output_type": "display_data"
    },
    {
     "data": {
      "text/plain": [
       "<Figure size 1152x576 with 0 Axes>"
      ]
     },
     "metadata": {},
     "output_type": "display_data"
    },
    {
     "data": {
      "text/plain": [
       "<Figure size 1152x576 with 0 Axes>"
      ]
     },
     "metadata": {},
     "output_type": "display_data"
    },
    {
     "data": {
      "text/plain": [
       "<Figure size 1152x576 with 0 Axes>"
      ]
     },
     "metadata": {},
     "output_type": "display_data"
    },
    {
     "data": {
      "text/plain": [
       "<Figure size 1152x576 with 0 Axes>"
      ]
     },
     "metadata": {},
     "output_type": "display_data"
    },
    {
     "data": {
      "text/plain": [
       "<Figure size 1152x576 with 0 Axes>"
      ]
     },
     "metadata": {},
     "output_type": "display_data"
    },
    {
     "data": {
      "text/plain": [
       "<Figure size 1152x576 with 0 Axes>"
      ]
     },
     "metadata": {},
     "output_type": "display_data"
    },
    {
     "data": {
      "text/plain": [
       "<Figure size 1152x576 with 0 Axes>"
      ]
     },
     "metadata": {},
     "output_type": "display_data"
    },
    {
     "data": {
      "text/plain": [
       "<Figure size 1152x576 with 0 Axes>"
      ]
     },
     "metadata": {},
     "output_type": "display_data"
    },
    {
     "data": {
      "text/plain": [
       "<Figure size 1152x576 with 0 Axes>"
      ]
     },
     "metadata": {},
     "output_type": "display_data"
    },
    {
     "data": {
      "text/plain": [
       "<Figure size 1152x576 with 0 Axes>"
      ]
     },
     "metadata": {},
     "output_type": "display_data"
    },
    {
     "data": {
      "text/plain": [
       "<Figure size 1152x576 with 0 Axes>"
      ]
     },
     "metadata": {},
     "output_type": "display_data"
    },
    {
     "data": {
      "text/plain": [
       "<Figure size 1152x576 with 0 Axes>"
      ]
     },
     "metadata": {},
     "output_type": "display_data"
    },
    {
     "data": {
      "text/plain": [
       "<Figure size 1152x576 with 0 Axes>"
      ]
     },
     "metadata": {},
     "output_type": "display_data"
    },
    {
     "data": {
      "text/plain": [
       "<Figure size 1152x576 with 0 Axes>"
      ]
     },
     "metadata": {},
     "output_type": "display_data"
    },
    {
     "data": {
      "text/plain": [
       "<Figure size 1152x576 with 0 Axes>"
      ]
     },
     "metadata": {},
     "output_type": "display_data"
    },
    {
     "data": {
      "text/plain": [
       "<Figure size 1152x576 with 0 Axes>"
      ]
     },
     "metadata": {},
     "output_type": "display_data"
    },
    {
     "data": {
      "text/plain": [
       "<Figure size 1152x576 with 0 Axes>"
      ]
     },
     "metadata": {},
     "output_type": "display_data"
    },
    {
     "data": {
      "text/plain": [
       "<Figure size 1152x576 with 0 Axes>"
      ]
     },
     "metadata": {},
     "output_type": "display_data"
    },
    {
     "data": {
      "text/plain": [
       "<Figure size 1152x576 with 0 Axes>"
      ]
     },
     "metadata": {},
     "output_type": "display_data"
    },
    {
     "data": {
      "text/plain": [
       "<Figure size 1152x576 with 0 Axes>"
      ]
     },
     "metadata": {},
     "output_type": "display_data"
    },
    {
     "data": {
      "text/plain": [
       "<Figure size 1152x576 with 0 Axes>"
      ]
     },
     "metadata": {},
     "output_type": "display_data"
    },
    {
     "data": {
      "text/plain": [
       "<Figure size 1152x576 with 0 Axes>"
      ]
     },
     "metadata": {},
     "output_type": "display_data"
    },
    {
     "data": {
      "text/plain": [
       "<Figure size 1152x576 with 0 Axes>"
      ]
     },
     "metadata": {},
     "output_type": "display_data"
    },
    {
     "data": {
      "text/plain": [
       "<Figure size 1152x576 with 0 Axes>"
      ]
     },
     "metadata": {},
     "output_type": "display_data"
    },
    {
     "data": {
      "text/plain": [
       "<Figure size 1152x576 with 0 Axes>"
      ]
     },
     "metadata": {},
     "output_type": "display_data"
    },
    {
     "data": {
      "text/plain": [
       "<Figure size 1152x576 with 0 Axes>"
      ]
     },
     "metadata": {},
     "output_type": "display_data"
    },
    {
     "data": {
      "text/plain": [
       "<Figure size 1152x576 with 0 Axes>"
      ]
     },
     "metadata": {},
     "output_type": "display_data"
    },
    {
     "data": {
      "text/plain": [
       "<Figure size 1152x576 with 0 Axes>"
      ]
     },
     "metadata": {},
     "output_type": "display_data"
    },
    {
     "data": {
      "text/plain": [
       "<Figure size 1152x576 with 0 Axes>"
      ]
     },
     "metadata": {},
     "output_type": "display_data"
    },
    {
     "data": {
      "text/plain": [
       "<Figure size 1152x576 with 0 Axes>"
      ]
     },
     "metadata": {},
     "output_type": "display_data"
    },
    {
     "data": {
      "text/plain": [
       "<Figure size 1152x576 with 0 Axes>"
      ]
     },
     "metadata": {},
     "output_type": "display_data"
    },
    {
     "data": {
      "text/plain": [
       "<Figure size 1152x576 with 0 Axes>"
      ]
     },
     "metadata": {},
     "output_type": "display_data"
    },
    {
     "data": {
      "text/plain": [
       "<Figure size 1152x576 with 0 Axes>"
      ]
     },
     "metadata": {},
     "output_type": "display_data"
    },
    {
     "data": {
      "text/plain": [
       "<Figure size 1152x576 with 0 Axes>"
      ]
     },
     "metadata": {},
     "output_type": "display_data"
    },
    {
     "data": {
      "text/plain": [
       "<Figure size 1152x576 with 0 Axes>"
      ]
     },
     "metadata": {},
     "output_type": "display_data"
    },
    {
     "data": {
      "text/plain": [
       "<Figure size 1152x576 with 0 Axes>"
      ]
     },
     "metadata": {},
     "output_type": "display_data"
    },
    {
     "data": {
      "text/plain": [
       "<Figure size 1152x576 with 0 Axes>"
      ]
     },
     "metadata": {},
     "output_type": "display_data"
    },
    {
     "data": {
      "text/plain": [
       "<Figure size 1152x576 with 0 Axes>"
      ]
     },
     "metadata": {},
     "output_type": "display_data"
    },
    {
     "data": {
      "text/plain": [
       "<Figure size 1152x576 with 0 Axes>"
      ]
     },
     "metadata": {},
     "output_type": "display_data"
    },
    {
     "data": {
      "text/plain": [
       "<Figure size 1152x576 with 0 Axes>"
      ]
     },
     "metadata": {},
     "output_type": "display_data"
    },
    {
     "data": {
      "text/plain": [
       "<Figure size 1152x576 with 0 Axes>"
      ]
     },
     "metadata": {},
     "output_type": "display_data"
    },
    {
     "data": {
      "text/plain": [
       "<Figure size 1152x576 with 0 Axes>"
      ]
     },
     "metadata": {},
     "output_type": "display_data"
    },
    {
     "data": {
      "text/plain": [
       "<Figure size 1152x576 with 0 Axes>"
      ]
     },
     "metadata": {},
     "output_type": "display_data"
    },
    {
     "data": {
      "text/plain": [
       "<Figure size 1152x576 with 0 Axes>"
      ]
     },
     "metadata": {},
     "output_type": "display_data"
    },
    {
     "data": {
      "text/plain": [
       "<Figure size 1152x576 with 0 Axes>"
      ]
     },
     "metadata": {},
     "output_type": "display_data"
    },
    {
     "data": {
      "text/plain": [
       "<Figure size 1152x576 with 0 Axes>"
      ]
     },
     "metadata": {},
     "output_type": "display_data"
    },
    {
     "data": {
      "text/plain": [
       "<Figure size 1152x576 with 0 Axes>"
      ]
     },
     "metadata": {},
     "output_type": "display_data"
    },
    {
     "data": {
      "text/plain": [
       "<Figure size 1152x576 with 0 Axes>"
      ]
     },
     "metadata": {},
     "output_type": "display_data"
    },
    {
     "data": {
      "text/plain": [
       "<Figure size 1152x576 with 0 Axes>"
      ]
     },
     "metadata": {},
     "output_type": "display_data"
    },
    {
     "data": {
      "text/plain": [
       "<Figure size 1152x576 with 0 Axes>"
      ]
     },
     "metadata": {},
     "output_type": "display_data"
    },
    {
     "data": {
      "text/plain": [
       "<Figure size 1152x576 with 0 Axes>"
      ]
     },
     "metadata": {},
     "output_type": "display_data"
    },
    {
     "data": {
      "text/plain": [
       "<Figure size 1152x576 with 0 Axes>"
      ]
     },
     "metadata": {},
     "output_type": "display_data"
    },
    {
     "data": {
      "text/plain": [
       "<Figure size 1152x576 with 0 Axes>"
      ]
     },
     "metadata": {},
     "output_type": "display_data"
    },
    {
     "data": {
      "text/plain": [
       "<Figure size 1152x576 with 0 Axes>"
      ]
     },
     "metadata": {},
     "output_type": "display_data"
    },
    {
     "data": {
      "text/plain": [
       "<Figure size 1152x576 with 0 Axes>"
      ]
     },
     "metadata": {},
     "output_type": "display_data"
    },
    {
     "data": {
      "text/plain": [
       "<Figure size 1152x576 with 0 Axes>"
      ]
     },
     "metadata": {},
     "output_type": "display_data"
    },
    {
     "data": {
      "text/plain": [
       "<Figure size 1152x576 with 0 Axes>"
      ]
     },
     "metadata": {},
     "output_type": "display_data"
    },
    {
     "data": {
      "text/plain": [
       "<Figure size 1152x576 with 0 Axes>"
      ]
     },
     "metadata": {},
     "output_type": "display_data"
    },
    {
     "data": {
      "text/plain": [
       "<Figure size 1152x576 with 0 Axes>"
      ]
     },
     "metadata": {},
     "output_type": "display_data"
    },
    {
     "data": {
      "text/plain": [
       "<Figure size 1152x576 with 0 Axes>"
      ]
     },
     "metadata": {},
     "output_type": "display_data"
    },
    {
     "data": {
      "text/plain": [
       "<Figure size 1152x576 with 0 Axes>"
      ]
     },
     "metadata": {},
     "output_type": "display_data"
    },
    {
     "data": {
      "text/plain": [
       "<Figure size 1152x576 with 0 Axes>"
      ]
     },
     "metadata": {},
     "output_type": "display_data"
    },
    {
     "data": {
      "text/plain": [
       "<Figure size 1152x576 with 0 Axes>"
      ]
     },
     "metadata": {},
     "output_type": "display_data"
    },
    {
     "data": {
      "text/plain": [
       "<Figure size 1152x576 with 0 Axes>"
      ]
     },
     "metadata": {},
     "output_type": "display_data"
    },
    {
     "data": {
      "text/plain": [
       "<Figure size 1152x576 with 0 Axes>"
      ]
     },
     "metadata": {},
     "output_type": "display_data"
    },
    {
     "data": {
      "text/plain": [
       "<Figure size 1152x576 with 0 Axes>"
      ]
     },
     "metadata": {},
     "output_type": "display_data"
    },
    {
     "data": {
      "text/plain": [
       "<Figure size 1152x576 with 0 Axes>"
      ]
     },
     "metadata": {},
     "output_type": "display_data"
    },
    {
     "data": {
      "text/plain": [
       "<Figure size 1152x576 with 0 Axes>"
      ]
     },
     "metadata": {},
     "output_type": "display_data"
    },
    {
     "data": {
      "text/plain": [
       "<Figure size 1152x576 with 0 Axes>"
      ]
     },
     "metadata": {},
     "output_type": "display_data"
    },
    {
     "data": {
      "text/plain": [
       "<Figure size 1152x576 with 0 Axes>"
      ]
     },
     "metadata": {},
     "output_type": "display_data"
    },
    {
     "data": {
      "text/plain": [
       "<Figure size 1152x576 with 0 Axes>"
      ]
     },
     "metadata": {},
     "output_type": "display_data"
    },
    {
     "data": {
      "text/plain": [
       "<Figure size 1152x576 with 0 Axes>"
      ]
     },
     "metadata": {},
     "output_type": "display_data"
    },
    {
     "data": {
      "text/plain": [
       "<Figure size 1152x576 with 0 Axes>"
      ]
     },
     "metadata": {},
     "output_type": "display_data"
    },
    {
     "data": {
      "text/plain": [
       "<Figure size 1152x576 with 0 Axes>"
      ]
     },
     "metadata": {},
     "output_type": "display_data"
    },
    {
     "data": {
      "text/plain": [
       "<Figure size 1152x576 with 0 Axes>"
      ]
     },
     "metadata": {},
     "output_type": "display_data"
    },
    {
     "data": {
      "text/plain": [
       "<Figure size 1152x576 with 0 Axes>"
      ]
     },
     "metadata": {},
     "output_type": "display_data"
    },
    {
     "data": {
      "text/plain": [
       "<Figure size 1152x576 with 0 Axes>"
      ]
     },
     "metadata": {},
     "output_type": "display_data"
    },
    {
     "data": {
      "text/plain": [
       "<Figure size 1152x576 with 0 Axes>"
      ]
     },
     "metadata": {},
     "output_type": "display_data"
    },
    {
     "data": {
      "text/plain": [
       "<Figure size 1152x576 with 0 Axes>"
      ]
     },
     "metadata": {},
     "output_type": "display_data"
    },
    {
     "data": {
      "text/plain": [
       "<Figure size 1152x576 with 0 Axes>"
      ]
     },
     "metadata": {},
     "output_type": "display_data"
    },
    {
     "data": {
      "text/plain": [
       "<Figure size 1152x576 with 0 Axes>"
      ]
     },
     "metadata": {},
     "output_type": "display_data"
    },
    {
     "data": {
      "text/plain": [
       "<Figure size 1152x576 with 0 Axes>"
      ]
     },
     "metadata": {},
     "output_type": "display_data"
    },
    {
     "data": {
      "text/plain": [
       "<Figure size 1152x576 with 0 Axes>"
      ]
     },
     "metadata": {},
     "output_type": "display_data"
    },
    {
     "data": {
      "text/plain": [
       "<Figure size 1152x576 with 0 Axes>"
      ]
     },
     "metadata": {},
     "output_type": "display_data"
    },
    {
     "data": {
      "text/plain": [
       "<Figure size 1152x576 with 0 Axes>"
      ]
     },
     "metadata": {},
     "output_type": "display_data"
    },
    {
     "data": {
      "text/plain": [
       "<Figure size 1152x576 with 0 Axes>"
      ]
     },
     "metadata": {},
     "output_type": "display_data"
    }
   ],
   "source": [
    "from mpl_toolkits.basemap import Basemap\n",
    "import matplotlib.pyplot as plt\n",
    "#import shapefile as shp\n",
    "from matplotlib.patches import Polygon\n",
    "from matplotlib.collections import PatchCollection\n",
    "from matplotlib.patches import PathPatch\n",
    "import numpy as np\n",
    "\n",
    "%matplotlib inline\n",
    "\n",
    "# fig = plt.figure(figsize=(16,8))\n",
    "# ax  = fig.add_subplot(111)\n",
    "\n",
    "map = Basemap()\n",
    "\n",
    "sh = map.readshapefile(\"ne_110m_admin_0_countries/ne_110m_admin_0_countries\",\"landen\")\n",
    "map.fillcontinents(color='lightgrey', alpha=0.5, lake_color='white')\n",
    "\n",
    "countries = [r['NAME_NL'] for r in map.landen_info]\n",
    "countries = list(dict.fromkeys(countries))\n",
    "\n",
    "\n",
    "for i in countries:\n",
    "    fig = plt.figure(figsize=(16,8))\n",
    "    ax  = fig.add_subplot(111)\n",
    "    \n",
    "    \n",
    "    map = Basemap()\n",
    "\n",
    "    sh = map.readshapefile(\"ne_110m_admin_0_countries/ne_110m_admin_0_countries\",\"landen\")\n",
    "    map.fillcontinents(color='lightgrey', alpha=0.5, lake_color='white')\n",
    "    \n",
    "    patches = []\n",
    "    for info, shape in zip(map.landen_info, map.landen):\n",
    "        if info['NAME_NL'] == str(i):\n",
    "            patches.append(Polygon(np.array(shape), True))\n",
    "            print(str(i), patches)\n",
    "        patchcol = PatchCollection(patches, facecolor= 'g', edgecolor='k', linewidths=1., zorder=2)\n",
    "        ax.add_collection(patchcol)\n",
    "\n",
    "         \n",
    "    naam = f'{i}{\".png\"}'\n",
    "\n",
    "    fig.savefig(naam, dpi=100)\n",
    "    patchcol.remove()\n",
    "    fig.canvas.draw_idle()\n",
    "    fig.clf()\n",
    "    \n",
    "#plt.show()\n"
   ]
  },
  {
   "cell_type": "code",
   "execution_count": null,
   "metadata": {},
   "outputs": [],
   "source": []
  },
  {
   "cell_type": "code",
   "execution_count": null,
   "metadata": {},
   "outputs": [],
   "source": []
  },
  {
   "cell_type": "code",
   "execution_count": null,
   "metadata": {},
   "outputs": [],
   "source": []
  }
 ],
 "metadata": {
  "kernelspec": {
   "display_name": "Python 3",
   "language": "python",
   "name": "python3"
  },
  "language_info": {
   "codemirror_mode": {
    "name": "ipython",
    "version": 3
   },
   "file_extension": ".py",
   "mimetype": "text/x-python",
   "name": "python",
   "nbconvert_exporter": "python",
   "pygments_lexer": "ipython3",
   "version": "3.7.4"
  }
 },
 "nbformat": 4,
 "nbformat_minor": 2
}
